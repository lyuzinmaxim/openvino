{
  "nbformat": 4,
  "nbformat_minor": 0,
  "metadata": {
    "colab": {
      "name": "OpenVINO make IR of TensorFlow Model.ipynb",
      "provenance": [],
      "collapsed_sections": [
        "eS_2R4zdQoO5"
      ]
    },
    "kernelspec": {
      "name": "python3",
      "display_name": "Python 3"
    }
  },
  "cells": [
    {
      "cell_type": "markdown",
      "metadata": {
        "id": "eS_2R4zdQoO5"
      },
      "source": [
        "# Installing OpenVINO on Colab und running demo"
      ]
    },
    {
      "cell_type": "code",
      "metadata": {
        "id": "PiRwt02XtARK"
      },
      "source": [
        "!apt-get update && apt-get upgrade -y &&\\\r\n",
        "    apt-get autoremove -y\r\n",
        "!sudo apt install -y --no-install-recommends \\\r\n",
        "      build-essential \\\r\n",
        "      cpio \\\r\n",
        "      curl \\\r\n",
        "      git \\\r\n",
        "      lsb-release \\\r\n",
        "      pciutils \\\r\n",
        "      python3.6 \\\r\n",
        "      python3-pip \\\r\n",
        "      sudo \\\r\n",
        "      libusb-1.0-0 libboost-program-options1.62.0 \\\r\n",
        "      libboost-thread1.62.0 libboost-filesystem1.62.0 \\\r\n",
        "      libssl1.0.0 libudev1 libjson-c3 usbutils udev wget"
      ],
      "execution_count": null,
      "outputs": []
    },
    {
      "cell_type": "code",
      "metadata": {
        "id": "E-4lJOEfzxMb"
      },
      "source": [
        "!OV_LINK=https://registrationcenter-download.intel.com/akdlm/irc_nas/17504/l_openvino_toolkit_p_2021.2.185.tgz &&\\\r\n",
        " curl $OV_LINK --output l_openvino_toolkit.tgz\r\n",
        "openvino_path = \"l_openvino_toolkit.tgz\"\r\n",
        "  \r\n",
        "!tar xf \"{openvino_path}\" &&\\\r\n",
        "    cd l_openvino_toolkit_p* && \\\r\n",
        "    ./install_openvino_dependencies.sh &&\\\r\n",
        "    sed -i 's/decline/accept/g' silent.cfg && \\\r\n",
        "    ./install.sh --silent silent.cfg  \r\n"
      ],
      "execution_count": null,
      "outputs": []
    },
    {
      "cell_type": "code",
      "metadata": {
        "id": "dshOh8o5z6qC"
      },
      "source": [
        "!source /opt/intel/openvino_2021.2.185/bin/setupvars.sh &&\\\r\n",
        " /opt/intel/openvino_2021.2.185/deployment_tools/demo/demo_squeezenet_download_convert_run.sh"
      ],
      "execution_count": null,
      "outputs": []
    },
    {
      "cell_type": "markdown",
      "metadata": {
        "id": "Dskq68-LQ2rR"
      },
      "source": [
        "# Optimizing Tensorflow-Model yolo v3\r\n"
      ]
    },
    {
      "cell_type": "code",
      "metadata": {
        "id": "fQNTBQG_62k9"
      },
      "source": [
        " !pip install imgaug==0.2.5\r\n",
        " !pip install gast==0.3.2\r\n",
        " !pip install folium==0.2.1"
      ],
      "execution_count": null,
      "outputs": []
    },
    {
      "cell_type": "markdown",
      "metadata": {
        "id": "3js-hwb7ujiG"
      },
      "source": [
        "Next cell gives an error, but if it's only one about version match - ignore it"
      ]
    },
    {
      "cell_type": "code",
      "metadata": {
        "id": "OAOJdkku12uJ"
      },
      "source": [
        "!/opt/intel/openvino_2021.2.185/deployment_tools/model_optimizer/install_prerequisites/install_prerequisites_tf.sh*"
      ],
      "execution_count": null,
      "outputs": []
    },
    {
      "cell_type": "markdown",
      "metadata": {
        "id": "IrlZDeeguK5W"
      },
      "source": [
        "Next cell should be ran for creating folders for models for \r\n",
        "simplicity"
      ]
    },
    {
      "cell_type": "code",
      "metadata": {
        "id": "GLaOpZJs5FL9"
      },
      "source": [
        "mkdir ~/downloaded_models ~/optimized_models ~/samples"
      ],
      "execution_count": 17,
      "outputs": []
    },
    {
      "cell_type": "markdown",
      "metadata": {
        "id": "c_J1AAYtuZ6u"
      },
      "source": [
        "Now we can download already pretrained models from OpenVINO source"
      ]
    },
    {
      "cell_type": "code",
      "metadata": {
        "id": "Cz1JMjLX6H6-"
      },
      "source": [
        "!python3 /opt/intel/openvino_2021.2.185/deployment_tools/tools/model_downloader/downloader.py --name yolo-v3-tf --output_dir /root/downloaded_models/"
      ],
      "execution_count": null,
      "outputs": []
    },
    {
      "cell_type": "markdown",
      "metadata": {
        "id": "qTklqqOifsw0"
      },
      "source": [
        "In official [documentation](https://docs.openvinotoolkit.org/latest/openvino_docs_MO_DG_prepare_model_convert_model_tf_specific_Convert_YOLO_From_Tensorflow.html) the general case is described. But our problem can be solved according [that](https://github.com/openvinotoolkit/openvino/issues/1593) answer: we use mo.py, and on [github](https://github.com/openvinotoolkit/open_model_zoo/blob/master/models/public/yolo-v3-tf/model.yml) (officially) there are flags for script **only for open zoo pretrained models**\r\n",
        "[Текст ссылки]"
      ]
    },
    {
      "cell_type": "code",
      "metadata": {
        "id": "G_b3drxOa_sv"
      },
      "source": [
        "!source /opt/intel/openvino_2021.2.185/bin/setupvars.sh &&\\\r\n",
        " python3 /opt/intel/openvino_2021.2.185/deployment_tools/model_optimizer/mo.py \\\r\n",
        "  --framework=tf \\\r\n",
        "  --output_dir=/root/optimized_models \\\r\n",
        "  --model_name=yolov3_25jan_3 \\\r\n",
        "  --data_type=FP16 \\\r\n",
        "  --input_shape=[1,416,416,3] \\\r\n",
        "  --input=input_1 \\\r\n",
        "  --scale_values=input_1[255] \\\r\n",
        "  --reverse_input_channels \\\r\n",
        "  --transformations_config=/root/downloaded_models/public/yolo-v3-tf/yolo-v3.json \\\r\n",
        "  --input_model=/root/downloaded_models/public/yolo-v3-tf/yolo-v3.pb"
      ],
      "execution_count": null,
      "outputs": []
    },
    {
      "cell_type": "code",
      "metadata": {
        "id": "ffE3A5Go7Q_1"
      },
      "source": [
        "#!python3 /opt/intel/openvino_2021.2.185/deployment_tools/model_optimizer/mo_tf.py --input_model /root/downloaded_models/public/yolo-v3-tf/public/yolo-v3-tf/yolo-v3.pb --input_shape [1,416,416,3] --output_dir ~/optimized_models/"
      ],
      "execution_count": null,
      "outputs": []
    },
    {
      "cell_type": "code",
      "metadata": {
        "id": "h8ZqRueN9ew5"
      },
      "source": [
        "#!source /opt/intel/openvino_2021.2.185/bin/setupvars.sh"
      ],
      "execution_count": null,
      "outputs": []
    },
    {
      "cell_type": "code",
      "metadata": {
        "id": "ABvjS-Ex7q4q"
      },
      "source": [
        "#!python3 /opt/intel/openvino_2021.2.185/deployment_tools/open_model_zoo/demos/python_demos/object_detection_demo/object_detection_demo.py --model /root/optimized_models/yolo-v3.xml -at={yolo} --input /opt/intel/openvino_2021.2.185/deployment_tools/demo/car.png -d CPU "
      ],
      "execution_count": null,
      "outputs": []
    },
    {
      "cell_type": "markdown",
      "metadata": {
        "id": "ntR4WxjAIdWe"
      },
      "source": [
        "# Optimizing Tensorflow-Model yolo-v3-tiny"
      ]
    },
    {
      "cell_type": "markdown",
      "metadata": {
        "id": "8-tT2tojveiC"
      },
      "source": [
        "If you made next steps for yolo-v3 (not tiny),  just ignore it till \"Dowloading...\""
      ]
    },
    {
      "cell_type": "code",
      "metadata": {
        "id": "d5ubZdx6vV9E"
      },
      "source": [
        " !pip install imgaug==0.2.5\r\n",
        " !pip install gast==0.3.2\r\n",
        " !pip install folium==0.2.1"
      ],
      "execution_count": null,
      "outputs": []
    },
    {
      "cell_type": "markdown",
      "metadata": {
        "id": "mthvgqJ8vV9X"
      },
      "source": [
        "Next cell gives an error, but if it's only one about version match - ignore it"
      ]
    },
    {
      "cell_type": "code",
      "metadata": {
        "id": "rwsebD5VvV9Y"
      },
      "source": [
        "!/opt/intel/openvino_2021.2.185/deployment_tools/model_optimizer/install_prerequisites/install_prerequisites_tf.sh*"
      ],
      "execution_count": null,
      "outputs": []
    },
    {
      "cell_type": "markdown",
      "metadata": {
        "id": "fyZUWpMevV9Y"
      },
      "source": [
        "Next cell should be ran for creating folders for models for \r\n",
        "simplicity"
      ]
    },
    {
      "cell_type": "code",
      "metadata": {
        "id": "B0Dnno-ovV9Z"
      },
      "source": [
        "mkdir ~/downloaded_models ~/optimized_models ~/samples"
      ],
      "execution_count": null,
      "outputs": []
    },
    {
      "cell_type": "markdown",
      "metadata": {
        "id": "jyyzCYpNvV9Z"
      },
      "source": [
        "Downloading. Now we can download already pretrained models from OpenVINO source"
      ]
    },
    {
      "cell_type": "code",
      "metadata": {
        "id": "pv7V_-EbIq3_"
      },
      "source": [
        "!python3 /opt/intel/openvino_2021.2.185/deployment_tools/tools/model_downloader/downloader.py --name yolo-v3-tiny-tf --output_dir /root/downloaded_models/"
      ],
      "execution_count": null,
      "outputs": []
    },
    {
      "cell_type": "markdown",
      "metadata": {
        "id": "cptv49Gkg33c"
      },
      "source": [
        "In official [documentation](https://docs.openvinotoolkit.org/latest/openvino_docs_MO_DG_prepare_model_convert_model_tf_specific_Convert_YOLO_From_Tensorflow.html) the general case is described. But our problem can be solved according [that](https://github.com/openvinotoolkit/openvino/issues/1593) answer: we use mo.py, and on [github](https://github.com/openvinotoolkit/open_model_zoo/blob/master/models/public/yolo-v3-tiny-tf/model.yml)  (officially) there are flags for script **only for open zoo pretrained models**"
      ]
    },
    {
      "cell_type": "code",
      "metadata": {
        "id": "2i98b7M6g33_"
      },
      "source": [
        "!source /opt/intel/openvino_2021.2.185/bin/setupvars.sh &&\\\r\n",
        " python3 /opt/intel/openvino_2021.2.185/deployment_tools/model_optimizer/mo.py \\\r\n",
        "  --framework=tf \\\r\n",
        "  --output_dir=/root/optimized_models \\\r\n",
        "  --model_name=yolov3tiny_25jan_3 \\\r\n",
        "  --input_shape=[1,416,416,3] \\\r\n",
        "  --data_type=FP16 \\\r\n",
        "  --input=image_input \\\r\n",
        "  --scale_values=image_input[255] \\\r\n",
        "  --reverse_input_channels \\\r\n",
        "  --transformations_config=/root/downloaded_models/public/yolo-v3-tiny-tf/yolo-v3-tiny-tf/yolo-v3-tiny-tf.json \\\r\n",
        "  --input_model=/root/downloaded_models/public/yolo-v3-tiny-tf/yolo-v3-tiny-tf/yolo-v3-tiny-tf.pb"
      ],
      "execution_count": null,
      "outputs": []
    },
    {
      "cell_type": "markdown",
      "metadata": {
        "id": "mfiFdBVEnKbC"
      },
      "source": [
        "# Run inference with object_detection_demo.py"
      ]
    },
    {
      "cell_type": "markdown",
      "metadata": {
        "id": "xEGFEUq-OGKz"
      },
      "source": [
        "When running object_detection_demo.py OpenVINO enviroment should be initialized in one cell with demo running code. The flags \"-r\" means that output will be in raw data format and \"no_show\" will not call the OpenCV's imshow, that works incorrectly in Colab. I run every optimized model just to see, that output raw data has no over1000 bboxes - that means, that the model was optimized incorrectly (in most cases) or was wrong learned"
      ]
    },
    {
      "cell_type": "code",
      "metadata": {
        "id": "Y-e5tx3qDIoZ"
      },
      "source": [
        "!source /opt/intel/openvino_2021.2.185/bin/setupvars.sh &&\\\r\n",
        " python3 /opt/intel/openvino_2021.2.185/deployment_tools/open_model_zoo/demos/python_demos/object_detection_demo/object_detection_demo.py \\\r\n",
        " --model /root/optimized_models/yolov3tiny_25jan_3.xml\\\r\n",
        " -at={'yolo'} \\\r\n",
        " --input /opt/intel/openvino_2021.2.185/deployment_tools/demo/car.png \\\r\n",
        " -d CPU \\\r\n",
        " -r \\\r\n",
        " --no_show"
      ],
      "execution_count": null,
      "outputs": []
    },
    {
      "cell_type": "code",
      "metadata": {
        "id": "G6A7W7snE8n6"
      },
      "source": [
        "#from google.colab.patches import cv2_imshow\r\n",
        "#!apt-get install gtk"
      ],
      "execution_count": null,
      "outputs": []
    },
    {
      "cell_type": "code",
      "metadata": {
        "id": "mtFwxHch2adw"
      },
      "source": [
        "#!find /opt/intel -name *.png"
      ],
      "execution_count": null,
      "outputs": []
    },
    {
      "cell_type": "markdown",
      "metadata": {
        "id": "a8zBUQbdhmb0"
      },
      "source": [
        "# Upload Intermediate Representation to Google Drive"
      ]
    },
    {
      "cell_type": "code",
      "metadata": {
        "colab": {
          "base_uri": "https://localhost:8080/"
        },
        "id": "zrSOEOwFHcYN",
        "outputId": "ff1bcf57-8888-4d59-872b-d85b03a8c6e6"
      },
      "source": [
        "from google.colab import drive\r\n",
        "drive.mount(\"/content/gdrive\")"
      ],
      "execution_count": 24,
      "outputs": [
        {
          "output_type": "stream",
          "text": [
            "Mounted at /content/gdrive\n"
          ],
          "name": "stdout"
        }
      ]
    },
    {
      "cell_type": "markdown",
      "metadata": {
        "id": "3d2xS8evJGKn"
      },
      "source": [
        "Goog [guide](https://colab.research.google.com/drive/1CN7JxLA_Qk1Clc4CM75rSAqIlUKIF8xZ#scrollTo=T_tDc-oMEY22) for model saving\r\n",
        "\r\n",
        "And [there](https://github.com/googlecolab/colabtools/issues/287) is described, why you can't see already uploaded to /content/drive folder in Google Drive instantly"
      ]
    },
    {
      "cell_type": "code",
      "metadata": {
        "id": "deGXg34-oc5W"
      },
      "source": [
        "mkdir /content/gdrive/MyDrive/yolo_v3_tiny_from_colab"
      ],
      "execution_count": null,
      "outputs": []
    },
    {
      "cell_type": "code",
      "metadata": {
        "id": "WhNsJxLTIIDf"
      },
      "source": [
        "!cp /root/optimized_models/yolov3tiny_25jan_3.xml  /content/gdrive/MyDrive/yolo_v3_tiny_from_colab/\r\n",
        "!cp /root/optimized_models/yolov3tiny_25jan_3.bin  /content/gdrive/MyDrive/yolo_v3_tiny_from_colab/ "
      ],
      "execution_count": 39,
      "outputs": []
    },
    {
      "cell_type": "code",
      "metadata": {
        "id": "YKfP22OUpofL"
      },
      "source": [
        "!cp /root/optimized_models/yolov3_25jan_3.xml  /content/gdrive/MyDrive/yolo_v3_from_colab/\r\n",
        "!cp /root/optimized_models/yolov3_25jan_3.bin  /content/gdrive/MyDrive/yolo_v3_from_colab/ "
      ],
      "execution_count": 40,
      "outputs": []
    },
    {
      "cell_type": "markdown",
      "metadata": {
        "id": "ixfUBspRpFlS"
      },
      "source": [
        "Sync can be manually with following comand (with small-sized files not neccessary)"
      ]
    },
    {
      "cell_type": "code",
      "metadata": {
        "id": "6r20FRscpLnI"
      },
      "source": [
        "from google.colab import drive\r\n",
        "drive.flush_and_unmount()"
      ],
      "execution_count": null,
      "outputs": []
    },
    {
      "cell_type": "markdown",
      "metadata": {
        "id": "Xp0D0XuDo8lu"
      },
      "source": [
        "# Download files from mounted Colab to the local machine"
      ]
    },
    {
      "cell_type": "code",
      "metadata": {
        "colab": {
          "base_uri": "https://localhost:8080/",
          "height": 16
        },
        "id": "lQcJdznBIJFt",
        "outputId": "1621106a-6ad0-4112-a549-b6f4f10d7898"
      },
      "source": [
        "from google.colab import files\r\n",
        "files.download( \"/root/optimized_models/yolo-v3.bin\" ) "
      ],
      "execution_count": null,
      "outputs": [
        {
          "output_type": "display_data",
          "data": {
            "application/javascript": [
              "\n",
              "    async function download(id, filename, size) {\n",
              "      if (!google.colab.kernel.accessAllowed) {\n",
              "        return;\n",
              "      }\n",
              "      const div = document.createElement('div');\n",
              "      const label = document.createElement('label');\n",
              "      label.textContent = `Downloading \"${filename}\": `;\n",
              "      div.appendChild(label);\n",
              "      const progress = document.createElement('progress');\n",
              "      progress.max = size;\n",
              "      div.appendChild(progress);\n",
              "      document.body.appendChild(div);\n",
              "\n",
              "      const buffers = [];\n",
              "      let downloaded = 0;\n",
              "\n",
              "      const channel = await google.colab.kernel.comms.open(id);\n",
              "      // Send a message to notify the kernel that we're ready.\n",
              "      channel.send({})\n",
              "\n",
              "      for await (const message of channel.messages) {\n",
              "        // Send a message to notify the kernel that we're ready.\n",
              "        channel.send({})\n",
              "        if (message.buffers) {\n",
              "          for (const buffer of message.buffers) {\n",
              "            buffers.push(buffer);\n",
              "            downloaded += buffer.byteLength;\n",
              "            progress.value = downloaded;\n",
              "          }\n",
              "        }\n",
              "      }\n",
              "      const blob = new Blob(buffers, {type: 'application/binary'});\n",
              "      const a = document.createElement('a');\n",
              "      a.href = window.URL.createObjectURL(blob);\n",
              "      a.download = filename;\n",
              "      div.appendChild(a);\n",
              "      a.click();\n",
              "      div.remove();\n",
              "    }\n",
              "  "
            ],
            "text/plain": [
              "<IPython.core.display.Javascript object>"
            ]
          },
          "metadata": {
            "tags": []
          }
        },
        {
          "output_type": "display_data",
          "data": {
            "application/javascript": [
              "download(\"download_9fbc5055-47b3-4e3c-939c-d5591ba2e9f2\", \"yolo-v3.bin\", 247691432)"
            ],
            "text/plain": [
              "<IPython.core.display.Javascript object>"
            ]
          },
          "metadata": {
            "tags": []
          }
        }
      ]
    },
    {
      "cell_type": "code",
      "metadata": {
        "colab": {
          "base_uri": "https://localhost:8080/",
          "height": 16
        },
        "id": "rAxonkFaJg7x",
        "outputId": "1ea3fe37-f729-4520-bbdd-69f96984c4fd"
      },
      "source": [
        "from google.colab import files\r\n",
        "files.download( \"/root/optimized_models/yolo-v3.xml\" )"
      ],
      "execution_count": null,
      "outputs": [
        {
          "output_type": "display_data",
          "data": {
            "application/javascript": [
              "\n",
              "    async function download(id, filename, size) {\n",
              "      if (!google.colab.kernel.accessAllowed) {\n",
              "        return;\n",
              "      }\n",
              "      const div = document.createElement('div');\n",
              "      const label = document.createElement('label');\n",
              "      label.textContent = `Downloading \"${filename}\": `;\n",
              "      div.appendChild(label);\n",
              "      const progress = document.createElement('progress');\n",
              "      progress.max = size;\n",
              "      div.appendChild(progress);\n",
              "      document.body.appendChild(div);\n",
              "\n",
              "      const buffers = [];\n",
              "      let downloaded = 0;\n",
              "\n",
              "      const channel = await google.colab.kernel.comms.open(id);\n",
              "      // Send a message to notify the kernel that we're ready.\n",
              "      channel.send({})\n",
              "\n",
              "      for await (const message of channel.messages) {\n",
              "        // Send a message to notify the kernel that we're ready.\n",
              "        channel.send({})\n",
              "        if (message.buffers) {\n",
              "          for (const buffer of message.buffers) {\n",
              "            buffers.push(buffer);\n",
              "            downloaded += buffer.byteLength;\n",
              "            progress.value = downloaded;\n",
              "          }\n",
              "        }\n",
              "      }\n",
              "      const blob = new Blob(buffers, {type: 'application/binary'});\n",
              "      const a = document.createElement('a');\n",
              "      a.href = window.URL.createObjectURL(blob);\n",
              "      a.download = filename;\n",
              "      div.appendChild(a);\n",
              "      a.click();\n",
              "      div.remove();\n",
              "    }\n",
              "  "
            ],
            "text/plain": [
              "<IPython.core.display.Javascript object>"
            ]
          },
          "metadata": {
            "tags": []
          }
        },
        {
          "output_type": "display_data",
          "data": {
            "application/javascript": [
              "download(\"download_840c1463-75f0-46b9-a42f-1ef113b99949\", \"yolo-v3.xml\", 239099)"
            ],
            "text/plain": [
              "<IPython.core.display.Javascript object>"
            ]
          },
          "metadata": {
            "tags": []
          }
        }
      ]
    }
  ]
}