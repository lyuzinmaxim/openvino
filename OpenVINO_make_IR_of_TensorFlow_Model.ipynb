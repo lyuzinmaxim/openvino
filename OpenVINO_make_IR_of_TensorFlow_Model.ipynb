{
  "nbformat": 4,
  "nbformat_minor": 0,
  "metadata": {
    "colab": {
      "name": "OpenVINO make IR of TensorFlow Model.ipynb",
      "provenance": [],
      "collapsed_sections": [
        "eS_2R4zdQoO5"
      ]
    },
    "kernelspec": {
      "name": "python3",
      "display_name": "Python 3"
    }
  },
  "cells": [
    {
      "cell_type": "markdown",
      "metadata": {
        "id": "eS_2R4zdQoO5"
      },
      "source": [
        "# Installing OpenVINO on Colab und running demo"
      ]
    },
    {
      "cell_type": "code",
      "metadata": {
        "id": "PiRwt02XtARK"
      },
      "source": [
        "!apt-get update && apt-get upgrade -y &&\\\r\n",
        "    apt-get autoremove -y\r\n",
        "!sudo apt install -y --no-install-recommends \\\r\n",
        "      build-essential \\\r\n",
        "      cpio \\\r\n",
        "      curl \\\r\n",
        "      git \\\r\n",
        "      lsb-release \\\r\n",
        "      pciutils \\\r\n",
        "      python3.6 \\\r\n",
        "      python3-pip \\\r\n",
        "      sudo \\\r\n",
        "      libusb-1.0-0 libboost-program-options1.62.0 \\\r\n",
        "      libboost-thread1.62.0 libboost-filesystem1.62.0 \\\r\n",
        "      libssl1.0.0 libudev1 libjson-c3 usbutils udev wget"
      ],
      "execution_count": null,
      "outputs": []
    },
    {
      "cell_type": "code",
      "metadata": {
        "colab": {
          "base_uri": "https://localhost:8080/"
        },
        "id": "E-4lJOEfzxMb",
        "outputId": "c68a9bda-9aa7-4db1-c61e-3f3345632368"
      },
      "source": [
        "!OV_LINK=https://registrationcenter-download.intel.com/akdlm/irc_nas/17504/l_openvino_toolkit_p_2021.2.185.tgz &&\\\r\n",
        " curl $OV_LINK --output l_openvino_toolkit.tgz\r\n",
        "openvino_path = \"l_openvino_toolkit.tgz\"\r\n",
        "  \r\n",
        "!tar xf \"{openvino_path}\" &&\\\r\n",
        "    cd l_openvino_toolkit_p* && \\\r\n",
        "    ./install_openvino_dependencies.sh &&\\\r\n",
        "    sed -i 's/decline/accept/g' silent.cfg && \\\r\n",
        "    ./install.sh --silent silent.cfg  \r\n"
      ],
      "execution_count": 4,
      "outputs": [
        {
          "output_type": "stream",
          "text": [
            "  % Total    % Received % Xferd  Average Speed   Time    Time     Time  Current\n",
            "                                 Dload  Upload   Total   Spent    Left  Speed\n",
            "100  481M  100  481M    0     0  30.2M      0  0:00:15  0:00:15 --:--:-- 28.4M\n",
            "\n",
            "This script installs the following OpenVINO 3rd-party dependencies:\n",
            "  1. GTK+, FFmpeg and GStreamer libraries used by OpenCV\n",
            "  2. libusb library required for Myriad plugin for Inference Engine\n",
            "  3. build dependencies for OpenVINO samples\n",
            "  4. build dependencies for GStreamer Plugins\n",
            "\n",
            "Hit:1 https://cloud.r-project.org/bin/linux/ubuntu bionic-cran40/ InRelease\n",
            "Ign:2 https://developer.download.nvidia.com/compute/cuda/repos/ubuntu1804/x86_64  InRelease\n",
            "Hit:3 http://security.ubuntu.com/ubuntu bionic-security InRelease\n",
            "Ign:4 https://developer.download.nvidia.com/compute/machine-learning/repos/ubuntu1804/x86_64  InRelease\n",
            "Hit:5 https://developer.download.nvidia.com/compute/cuda/repos/ubuntu1804/x86_64  Release\n",
            "Hit:6 https://developer.download.nvidia.com/compute/machine-learning/repos/ubuntu1804/x86_64  Release\n",
            "Hit:7 http://ppa.launchpad.net/c2d4u.team/c2d4u4.0+/ubuntu bionic InRelease\n",
            "Hit:8 http://archive.ubuntu.com/ubuntu bionic InRelease\n",
            "Hit:10 http://archive.ubuntu.com/ubuntu bionic-updates InRelease\n",
            "Hit:11 http://ppa.launchpad.net/cran/libgit2/ubuntu bionic InRelease\n",
            "Hit:13 http://archive.ubuntu.com/ubuntu bionic-backports InRelease\n",
            "Hit:14 http://ppa.launchpad.net/graphics-drivers/ppa/ubuntu bionic InRelease\n",
            "Reading package lists... Done\n",
            "Building dependency tree       \n",
            "Reading state information... Done\n",
            "6 packages can be upgraded. Run 'apt list --upgradable' to see them.\n",
            "Reading package lists... Done\n",
            "Building dependency tree       \n",
            "Reading state information... Done\n",
            "Note, selecting 'libglib2.0-cil-dev' for regex 'libglib2.0'\n",
            "Note, selecting 'libglib2.0-tests' for regex 'libglib2.0'\n",
            "Note, selecting 'libglib2.0-0-dbg' for regex 'libglib2.0'\n",
            "Note, selecting 'libglib2.0-dev-bin' for regex 'libglib2.0'\n",
            "Note, selecting 'libglib2.0-bin' for regex 'libglib2.0'\n",
            "Note, selecting 'libglib2.0-cil' for regex 'libglib2.0'\n",
            "Note, selecting 'libglib2.0-dev' for regex 'libglib2.0'\n",
            "Note, selecting 'libglib2.0-doc' for regex 'libglib2.0'\n",
            "Note, selecting 'libglib2.0-data' for regex 'libglib2.0'\n",
            "Note, selecting 'libglib2.0-0' for regex 'libglib2.0'\n",
            "Note, selecting 'libgl1-mesa-dev' instead of 'libgl-dev'\n",
            "build-essential is already the newest version (12.4ubuntu1).\n",
            "libnettle6 is already the newest version (3.4-1).\n",
            "cmake is already the newest version (3.10.2-1ubuntu2.18.04.1).\n",
            "cpio is already the newest version (2.12+dfsg-6ubuntu0.18.04.1).\n",
            "libdrm-dev is already the newest version (2.4.101-2~18.04.1).\n",
            "libdrm-dev set to manually installed.\n",
            "libgl1-mesa-dev is already the newest version (20.0.8-0ubuntu1~18.04.1).\n",
            "libgl1-mesa-dev set to manually installed.\n",
            "libglib2.0-0 is already the newest version (2.56.4-0ubuntu0.18.04.6).\n",
            "libglib2.0-0 set to manually installed.\n",
            "libglib2.0-bin is already the newest version (2.56.4-0ubuntu0.18.04.6).\n",
            "libglib2.0-bin set to manually installed.\n",
            "libglib2.0-data is already the newest version (2.56.4-0ubuntu0.18.04.6).\n",
            "libglib2.0-data set to manually installed.\n",
            "libglib2.0-dev is already the newest version (2.56.4-0ubuntu0.18.04.6).\n",
            "libglib2.0-dev set to manually installed.\n",
            "libglib2.0-dev-bin is already the newest version (2.56.4-0ubuntu0.18.04.6).\n",
            "libglib2.0-dev-bin set to manually installed.\n",
            "libgtk-3-0 is already the newest version (3.22.30-1ubuntu4).\n",
            "libgtk-3-0 set to manually installed.\n",
            "libopenexr22 is already the newest version (2.2.0-11.1ubuntu1.4).\n",
            "libopenexr22 set to manually installed.\n",
            "python3-gi is already the newest version (3.26.1-2ubuntu1).\n",
            "python3-gi set to manually installed.\n",
            "ffmpeg is already the newest version (7:3.4.8-0ubuntu0.2).\n",
            "The following additional packages will be installed:\n",
            "  binfmt-support ca-certificates-mono cli-common freepats gstreamer1.0-gl\n",
            "  gstreamer1.0-x liba52-0.7.4 libaa1 libcap2-bin libcdparanoia0 libdca0\n",
            "  libde265-0 libdv4 libdvdnav4 libdvdread4 libfaad2 libfl-dev libfl2 libgpm2\n",
            "  libgraphene-1.0-0 libgssdp-1.0-3 libgstreamer-gl1.0-0\n",
            "  libgstreamer-plugins-bad1.0-0 libgstreamer-plugins-base1.0-0\n",
            "  libgstreamer-plugins-good1.0-0 libgupnp-1.0-4 libgupnp-igd-1.0-4 libkate1\n",
            "  liblilv-0-0 libmjpegutils-2.1-0 libmms0 libmodplug1 libmono-corlib4.5-cil\n",
            "  libmono-i18n-west4.0-cil libmono-i18n4.0-cil libmono-security4.0-cil\n",
            "  libmono-system-configuration4.0-cil libmono-system-security4.0-cil\n",
            "  libmono-system-xml4.0-cil libmono-system4.0-cil libmpcdec6 libmpeg2-4\n",
            "  libmpeg2encpp-2.1-0 libmplex2-2.1-0 libnice10 libofa0 libopencore-amrnb0\n",
            "  libopencore-amrwb0 liborc-0.4-0 libpam-cap libsbc1 libserd-0-0 libshout3\n",
            "  libsidplay1v5 libsigsegv2 libsord-0-0 libsoundtouch1 libspandsp2\n",
            "  libsratom-0-0 libsrtp2-1 libtag1v5 libtag1v5-vanilla libusb-1.0-doc libv4l-0\n",
            "  libv4lconvert0 libva-wayland2 libvisual-0.4-0 libvo-aacenc0 libvo-amrwbenc0\n",
            "  libvulkan1 libwebrtc-audio-processing1 libwildmidi-config libwildmidi2\n",
            "  libzbar0 m4 mesa-vulkan-drivers mono-4.0-gac mono-gac mono-runtime\n",
            "  mono-runtime-common mono-runtime-sgen\n",
            "Suggested packages:\n",
            "  bison flex-doc alsa-utils frei0r-plugins gvfs gstreamer1.0-vaapi-doc\n",
            "  libdv-bin oss-compat libdvdcss2 fluidr3mono-gm-soundfont\n",
            "  | timgm6mb-soundfont | fluid-soundfont-gm monodoc-gtk2.0-manual devhelp gpm\n",
            "  libvisual-0.4-plugins gstreamer1.0-tools libmono-i18n4.0-all libgamin0 serdi\n",
            "  sidplay-base sordi m4-doc\n",
            "The following NEW packages will be installed:\n",
            "  binfmt-support ca-certificates-mono cli-common flex freepats\n",
            "  gstreamer1.0-alsa gstreamer1.0-gl gstreamer1.0-plugins-bad\n",
            "  gstreamer1.0-plugins-base gstreamer1.0-plugins-good\n",
            "  gstreamer1.0-plugins-ugly gstreamer1.0-vaapi gstreamer1.0-x liba52-0.7.4\n",
            "  libaa1 libcap2-bin libcdparanoia0 libdca0 libde265-0 libdv4 libdvdnav4\n",
            "  libdvdread4 libfaac0 libfaad2 libfl-dev libfl2 libfluidsynth1 libglib2.0-cil\n",
            "  libglib2.0-cil-dev libglib2.0-doc libglib2.0-tests libgpm2 libgraphene-1.0-0\n",
            "  libgssdp-1.0-3 libgstreamer-gl1.0-0 libgstreamer-plugins-bad1.0-0\n",
            "  libgstreamer-plugins-base1.0-0 libgstreamer-plugins-good1.0-0\n",
            "  libgstreamer1.0-0 libgupnp-1.0-4 libgupnp-igd-1.0-4 libkate1 liblilv-0-0\n",
            "  libmjpegutils-2.1-0 libmms0 libmodplug1 libmono-corlib4.5-cil\n",
            "  libmono-i18n-west4.0-cil libmono-i18n4.0-cil libmono-security4.0-cil\n",
            "  libmono-system-configuration4.0-cil libmono-system-security4.0-cil\n",
            "  libmono-system-xml4.0-cil libmono-system4.0-cil libmpcdec6 libmpeg2-4\n",
            "  libmpeg2encpp-2.1-0 libmplex2-2.1-0 libnice10 libofa0 libopencore-amrnb0\n",
            "  libopencore-amrwb0 liborc-0.4-0 libpam-cap libsbc1 libserd-0-0 libshout3\n",
            "  libsidplay1v5 libsigsegv2 libsord-0-0 libsoundtouch1 libspandsp2\n",
            "  libsratom-0-0 libsrtp2-1 libtag-extras1 libtag1v5 libtag1v5-vanilla\n",
            "  libusb-1.0-0-dev libusb-1.0-doc libv4l-0 libv4lconvert0 libva-wayland2\n",
            "  libvisual-0.4-0 libvo-aacenc0 libvo-amrwbenc0 libvulkan1\n",
            "  libwebrtc-audio-processing1 libwildmidi-config libwildmidi2 libzbar0 m4\n",
            "  mesa-vulkan-drivers mono-4.0-gac mono-gac mono-runtime mono-runtime-common\n",
            "  mono-runtime-sgen\n",
            "0 upgraded, 97 newly installed, 0 to remove and 6 not upgraded.\n",
            "Need to get 50.8 MB of archives.\n",
            "After this operation, 136 MB of additional disk space will be used.\n",
            "Get:1 http://ppa.launchpad.net/graphics-drivers/ppa/ubuntu bionic/main amd64 libvulkan1 amd64 1.1.126.0-2~gpu18.04.1 [101 kB]\n",
            "Get:2 http://archive.ubuntu.com/ubuntu bionic/main amd64 libsigsegv2 amd64 2.12-1 [14.7 kB]\n",
            "Get:3 http://archive.ubuntu.com/ubuntu bionic/main amd64 m4 amd64 1.4.18-1 [197 kB]\n",
            "Get:4 http://archive.ubuntu.com/ubuntu bionic/main amd64 flex amd64 2.6.4-6 [316 kB]\n",
            "Get:5 http://archive.ubuntu.com/ubuntu bionic/universe amd64 libopencore-amrnb0 amd64 0.1.3-2.1 [92.0 kB]\n",
            "Get:6 http://archive.ubuntu.com/ubuntu bionic/universe amd64 libopencore-amrwb0 amd64 0.1.3-2.1 [45.8 kB]\n",
            "Get:7 http://archive.ubuntu.com/ubuntu bionic/universe amd64 libvo-aacenc0 amd64 0.1.3-1 [71.0 kB]\n",
            "Get:8 http://archive.ubuntu.com/ubuntu bionic/universe amd64 libvo-amrwbenc0 amd64 0.1.3-1 [66.4 kB]\n",
            "Get:9 http://archive.ubuntu.com/ubuntu bionic/main amd64 libcap2-bin amd64 1:2.25-1.2 [20.6 kB]\n",
            "Get:10 http://archive.ubuntu.com/ubuntu bionic/main amd64 libpam-cap amd64 1:2.25-1.2 [7,268 B]\n",
            "Get:11 http://archive.ubuntu.com/ubuntu bionic/main amd64 binfmt-support amd64 2.1.8-2 [51.6 kB]\n",
            "Get:12 http://archive.ubuntu.com/ubuntu bionic/universe amd64 libmono-corlib4.5-cil all 4.6.2.7+dfsg-1ubuntu1 [1,025 kB]\n",
            "Get:13 http://archive.ubuntu.com/ubuntu bionic/universe amd64 libmono-system-xml4.0-cil all 4.6.2.7+dfsg-1ubuntu1 [811 kB]\n",
            "Get:14 http://archive.ubuntu.com/ubuntu bionic/universe amd64 libmono-system-security4.0-cil all 4.6.2.7+dfsg-1ubuntu1 [53.3 kB]\n",
            "Get:15 http://archive.ubuntu.com/ubuntu bionic/universe amd64 libmono-system-configuration4.0-cil all 4.6.2.7+dfsg-1ubuntu1 [52.4 kB]\n",
            "Get:16 http://archive.ubuntu.com/ubuntu bionic/universe amd64 libmono-system4.0-cil all 4.6.2.7+dfsg-1ubuntu1 [707 kB]\n",
            "Get:17 http://archive.ubuntu.com/ubuntu bionic/universe amd64 libmono-security4.0-cil all 4.6.2.7+dfsg-1ubuntu1 [226 kB]\n",
            "Get:18 http://archive.ubuntu.com/ubuntu bionic/universe amd64 mono-4.0-gac all 4.6.2.7+dfsg-1ubuntu1 [20.6 kB]\n",
            "Get:19 http://archive.ubuntu.com/ubuntu bionic/universe amd64 mono-gac all 4.6.2.7+dfsg-1ubuntu1 [16.3 kB]\n",
            "Get:20 http://archive.ubuntu.com/ubuntu bionic/universe amd64 mono-runtime-common amd64 4.6.2.7+dfsg-1ubuntu1 [211 kB]\n",
            "Get:21 http://archive.ubuntu.com/ubuntu bionic/universe amd64 mono-runtime-sgen amd64 4.6.2.7+dfsg-1ubuntu1 [1,361 kB]\n",
            "Get:22 http://archive.ubuntu.com/ubuntu bionic/universe amd64 mono-runtime amd64 4.6.2.7+dfsg-1ubuntu1 [12.3 kB]\n",
            "Get:23 http://archive.ubuntu.com/ubuntu bionic/universe amd64 ca-certificates-mono all 4.6.2.7+dfsg-1ubuntu1 [15.5 kB]\n",
            "Get:24 http://archive.ubuntu.com/ubuntu bionic/universe amd64 cli-common all 0.9+nmu1 [171 kB]\n",
            "Get:25 http://archive.ubuntu.com/ubuntu bionic/universe amd64 freepats all 20060219-1 [29.0 MB]\n",
            "Get:26 http://archive.ubuntu.com/ubuntu bionic-updates/main amd64 libgstreamer1.0-0 amd64 1.14.5-0ubuntu1~18.04.1 [865 kB]\n",
            "Get:27 http://archive.ubuntu.com/ubuntu bionic/main amd64 liborc-0.4-0 amd64 1:0.4.28-1 [137 kB]\n",
            "Get:28 http://archive.ubuntu.com/ubuntu bionic-updates/main amd64 libgstreamer-plugins-base1.0-0 amd64 1.14.5-0ubuntu1~18.04.1 [688 kB]\n",
            "Get:29 http://archive.ubuntu.com/ubuntu bionic-updates/main amd64 gstreamer1.0-alsa amd64 1.14.5-0ubuntu1~18.04.1 [35.4 kB]\n",
            "Get:30 http://archive.ubuntu.com/ubuntu bionic/main amd64 libgraphene-1.0-0 amd64 1.8.0-1 [37.4 kB]\n",
            "Get:31 http://archive.ubuntu.com/ubuntu bionic-updates/main amd64 libgstreamer-gl1.0-0 amd64 1.14.5-0ubuntu1~18.04.1 [147 kB]\n",
            "Get:32 http://archive.ubuntu.com/ubuntu bionic-updates/main amd64 gstreamer1.0-gl amd64 1.14.5-0ubuntu1~18.04.1 [84.0 kB]\n",
            "Get:33 http://archive.ubuntu.com/ubuntu bionic/main amd64 libcdparanoia0 amd64 3.10.2+debian-13 [46.7 kB]\n",
            "Get:34 http://archive.ubuntu.com/ubuntu bionic/main amd64 libvisual-0.4-0 amd64 0.4.0-11 [99.2 kB]\n",
            "Get:35 http://archive.ubuntu.com/ubuntu bionic-updates/main amd64 gstreamer1.0-plugins-base amd64 1.14.5-0ubuntu1~18.04.1 [587 kB]\n",
            "Get:36 http://archive.ubuntu.com/ubuntu bionic/main amd64 libgpm2 amd64 1.20.7-5 [15.1 kB]\n",
            "Get:37 http://archive.ubuntu.com/ubuntu bionic/main amd64 libaa1 amd64 1.4p5-44build2 [47.2 kB]\n",
            "Get:38 http://archive.ubuntu.com/ubuntu bionic/main amd64 libdv4 amd64 1.0.0-11 [57.8 kB]\n",
            "Get:39 http://archive.ubuntu.com/ubuntu bionic-updates/main amd64 libgstreamer-plugins-good1.0-0 amd64 1.14.5-0ubuntu1~18.04.1 [62.6 kB]\n",
            "Get:40 http://archive.ubuntu.com/ubuntu bionic/main amd64 libshout3 amd64 2.4.1-2build1 [43.1 kB]\n",
            "Get:41 http://archive.ubuntu.com/ubuntu bionic/main amd64 libtag1v5-vanilla amd64 1.11.1+dfsg.1-0.2build2 [265 kB]\n",
            "Get:42 http://archive.ubuntu.com/ubuntu bionic/main amd64 libtag1v5 amd64 1.11.1+dfsg.1-0.2build2 [10.9 kB]\n",
            "Get:43 http://archive.ubuntu.com/ubuntu bionic/main amd64 libv4lconvert0 amd64 1.14.2-1 [76.1 kB]\n",
            "Get:44 http://archive.ubuntu.com/ubuntu bionic/main amd64 libv4l-0 amd64 1.14.2-1 [41.7 kB]\n",
            "Get:45 http://archive.ubuntu.com/ubuntu bionic-updates/main amd64 gstreamer1.0-plugins-good amd64 1.14.5-0ubuntu1~18.04.1 [1,691 kB]\n",
            "Get:46 http://archive.ubuntu.com/ubuntu bionic/universe amd64 liba52-0.7.4 amd64 0.7.4-19 [35.2 kB]\n",
            "Get:47 http://archive.ubuntu.com/ubuntu bionic/universe amd64 libdvdread4 amd64 6.0.0-1 [50.6 kB]\n",
            "Get:48 http://archive.ubuntu.com/ubuntu bionic/universe amd64 libmpeg2-4 amd64 0.5.1-8 [57.5 kB]\n",
            "Get:49 http://archive.ubuntu.com/ubuntu bionic/universe amd64 libsidplay1v5 amd64 1.36.59-11 [63.2 kB]\n",
            "Get:50 http://archive.ubuntu.com/ubuntu bionic-updates/universe amd64 gstreamer1.0-plugins-ugly amd64 1.14.5-0ubuntu1~18.04.1 [237 kB]\n",
            "Get:51 http://archive.ubuntu.com/ubuntu bionic-updates/universe amd64 libgstreamer-plugins-bad1.0-0 amd64 1.14.5-0ubuntu1~18.04.1 [322 kB]\n",
            "Get:52 http://archive.ubuntu.com/ubuntu bionic/universe amd64 libva-wayland2 amd64 2.1.0-3 [8,756 B]\n",
            "Get:53 http://archive.ubuntu.com/ubuntu bionic-updates/universe amd64 gstreamer1.0-vaapi amd64 1.14.5-0ubuntu1~ubuntu18.04.1 [310 kB]\n",
            "Get:54 http://archive.ubuntu.com/ubuntu bionic-updates/main amd64 gstreamer1.0-x amd64 1.14.5-0ubuntu1~18.04.1 [74.4 kB]\n",
            "Get:55 http://archive.ubuntu.com/ubuntu bionic/universe amd64 libde265-0 amd64 1.0.2-2build1 [234 kB]\n",
            "Get:56 http://archive.ubuntu.com/ubuntu bionic/universe amd64 libdvdnav4 amd64 6.0.0-1 [38.0 kB]\n",
            "Get:57 http://archive.ubuntu.com/ubuntu bionic/multiverse amd64 libfaac0 amd64 1.29.7.7-1 [44.4 kB]\n",
            "Get:58 http://archive.ubuntu.com/ubuntu bionic/universe amd64 libfaad2 amd64 2.8.8-1 [154 kB]\n",
            "Get:59 http://archive.ubuntu.com/ubuntu bionic/main amd64 libfl2 amd64 2.6.4-6 [11.4 kB]\n",
            "Get:60 http://archive.ubuntu.com/ubuntu bionic/main amd64 libfl-dev amd64 2.6.4-6 [6,320 B]\n",
            "Get:61 http://archive.ubuntu.com/ubuntu bionic/universe amd64 libfluidsynth1 amd64 1.1.9-1 [137 kB]\n",
            "Get:62 http://archive.ubuntu.com/ubuntu bionic/universe amd64 libglib2.0-cil amd64 2.12.40-2 [43.8 kB]\n",
            "Get:63 http://archive.ubuntu.com/ubuntu bionic/universe amd64 libglib2.0-cil-dev amd64 2.12.40-2 [2,432 B]\n",
            "Get:64 http://archive.ubuntu.com/ubuntu bionic-updates/main amd64 libglib2.0-doc all 2.56.4-0ubuntu0.18.04.6 [1,390 kB]\n",
            "Get:65 http://archive.ubuntu.com/ubuntu bionic-updates/universe amd64 libglib2.0-tests amd64 2.56.4-0ubuntu0.18.04.6 [1,219 kB]\n",
            "Get:66 http://archive.ubuntu.com/ubuntu bionic/universe amd64 libgssdp-1.0-3 amd64 1.0.2-2 [23.0 kB]\n",
            "Get:67 http://archive.ubuntu.com/ubuntu bionic/universe amd64 libgupnp-1.0-4 amd64 1.0.2-2 [59.7 kB]\n",
            "Get:68 http://archive.ubuntu.com/ubuntu bionic/universe amd64 libgupnp-igd-1.0-4 amd64 0.2.5-1 [14.9 kB]\n",
            "Get:69 http://archive.ubuntu.com/ubuntu bionic/universe amd64 libkate1 amd64 0.4.1-7build1 [38.1 kB]\n",
            "Get:70 http://archive.ubuntu.com/ubuntu bionic/universe amd64 libserd-0-0 amd64 0.28.0~dfsg0-1 [37.0 kB]\n",
            "Get:71 http://archive.ubuntu.com/ubuntu bionic/universe amd64 libsord-0-0 amd64 0.16.0~dfsg0-1 [20.2 kB]\n",
            "Get:72 http://archive.ubuntu.com/ubuntu bionic/universe amd64 libsratom-0-0 amd64 0.6.0~dfsg0-1 [15.8 kB]\n",
            "Get:73 http://archive.ubuntu.com/ubuntu bionic/universe amd64 liblilv-0-0 amd64 0.24.2~dfsg0-1 [38.0 kB]\n",
            "Get:74 http://archive.ubuntu.com/ubuntu bionic/universe amd64 libmjpegutils-2.1-0 amd64 1:2.1.0+debian-5 [24.6 kB]\n",
            "Get:75 http://archive.ubuntu.com/ubuntu bionic/universe amd64 libmms0 amd64 0.6.4-2 [27.4 kB]\n",
            "Get:76 http://archive.ubuntu.com/ubuntu bionic/universe amd64 libmodplug1 amd64 1:0.8.9.0-1 [150 kB]\n",
            "Get:77 http://archive.ubuntu.com/ubuntu bionic/universe amd64 libmono-i18n4.0-cil all 4.6.2.7+dfsg-1ubuntu1 [20.5 kB]\n",
            "Get:78 http://archive.ubuntu.com/ubuntu bionic/universe amd64 libmono-i18n-west4.0-cil all 4.6.2.7+dfsg-1ubuntu1 [23.6 kB]\n",
            "Get:79 http://archive.ubuntu.com/ubuntu bionic/universe amd64 libmpcdec6 amd64 2:0.1~r495-1 [32.3 kB]\n",
            "Get:80 http://archive.ubuntu.com/ubuntu bionic/universe amd64 libmpeg2encpp-2.1-0 amd64 1:2.1.0+debian-5 [67.6 kB]\n",
            "Get:81 http://archive.ubuntu.com/ubuntu bionic/universe amd64 libmplex2-2.1-0 amd64 1:2.1.0+debian-5 [43.7 kB]\n",
            "Get:82 http://archive.ubuntu.com/ubuntu bionic/universe amd64 libnice10 amd64 0.1.14-1 [126 kB]\n",
            "Get:83 http://archive.ubuntu.com/ubuntu bionic/universe amd64 libofa0 amd64 0.9.3-15 [49.1 kB]\n",
            "Get:84 http://archive.ubuntu.com/ubuntu bionic/universe amd64 libsoundtouch1 amd64 1.9.2-3 [39.6 kB]\n",
            "Get:85 http://archive.ubuntu.com/ubuntu bionic/universe amd64 libspandsp2 amd64 0.0.6+dfsg-0.1 [273 kB]\n",
            "Get:86 http://archive.ubuntu.com/ubuntu bionic/universe amd64 libsrtp2-1 amd64 2.1.0-1 [57.4 kB]\n",
            "Get:87 http://archive.ubuntu.com/ubuntu bionic/universe amd64 libtag-extras1 amd64 1.0.1-3.1 [18.6 kB]\n",
            "Get:88 http://archive.ubuntu.com/ubuntu bionic/main amd64 libusb-1.0-0-dev amd64 2:1.0.21-2 [60.5 kB]\n",
            "Get:89 http://archive.ubuntu.com/ubuntu bionic/main amd64 libusb-1.0-doc all 2:1.0.21-2 [170 kB]\n",
            "Get:90 http://archive.ubuntu.com/ubuntu bionic/main amd64 libwebrtc-audio-processing1 amd64 0.3-1 [260 kB]\n",
            "Get:91 http://archive.ubuntu.com/ubuntu bionic/universe amd64 libwildmidi-config all 0.4.2-1 [7,212 B]\n",
            "Get:92 http://archive.ubuntu.com/ubuntu bionic/universe amd64 libwildmidi2 amd64 0.4.2-1 [55.8 kB]\n",
            "Get:93 http://archive.ubuntu.com/ubuntu bionic/universe amd64 libzbar0 amd64 0.10+doc-10.1build2 [75.7 kB]\n",
            "Get:94 http://archive.ubuntu.com/ubuntu bionic-updates/universe amd64 mesa-vulkan-drivers amd64 20.0.8-0ubuntu1~18.04.1 [3,059 kB]\n",
            "Get:95 http://archive.ubuntu.com/ubuntu bionic/universe amd64 libdca0 amd64 0.0.5-10 [100.0 kB]\n",
            "Get:96 http://archive.ubuntu.com/ubuntu bionic/main amd64 libsbc1 amd64 1.3-2 [33.1 kB]\n",
            "Get:97 http://archive.ubuntu.com/ubuntu bionic-updates/universe amd64 gstreamer1.0-plugins-bad amd64 1.14.5-0ubuntu1~18.04.1 [1,627 kB]\n",
            "Fetched 50.8 MB in 8s (6,562 kB/s)\n",
            "Extracting templates from packages: 100%\n",
            "Selecting previously unselected package libsigsegv2:amd64.\n",
            "(Reading database ... 146543 files and directories currently installed.)\n",
            "Preparing to unpack .../00-libsigsegv2_2.12-1_amd64.deb ...\n",
            "Unpacking libsigsegv2:amd64 (2.12-1) ...\n",
            "Selecting previously unselected package m4.\n",
            "Preparing to unpack .../01-m4_1.4.18-1_amd64.deb ...\n",
            "Unpacking m4 (1.4.18-1) ...\n",
            "Selecting previously unselected package flex.\n",
            "Preparing to unpack .../02-flex_2.6.4-6_amd64.deb ...\n",
            "Unpacking flex (2.6.4-6) ...\n",
            "Selecting previously unselected package libopencore-amrnb0:amd64.\n",
            "Preparing to unpack .../03-libopencore-amrnb0_0.1.3-2.1_amd64.deb ...\n",
            "Unpacking libopencore-amrnb0:amd64 (0.1.3-2.1) ...\n",
            "Selecting previously unselected package libopencore-amrwb0:amd64.\n",
            "Preparing to unpack .../04-libopencore-amrwb0_0.1.3-2.1_amd64.deb ...\n",
            "Unpacking libopencore-amrwb0:amd64 (0.1.3-2.1) ...\n",
            "Selecting previously unselected package libvo-aacenc0:amd64.\n",
            "Preparing to unpack .../05-libvo-aacenc0_0.1.3-1_amd64.deb ...\n",
            "Unpacking libvo-aacenc0:amd64 (0.1.3-1) ...\n",
            "Selecting previously unselected package libvo-amrwbenc0:amd64.\n",
            "Preparing to unpack .../06-libvo-amrwbenc0_0.1.3-1_amd64.deb ...\n",
            "Unpacking libvo-amrwbenc0:amd64 (0.1.3-1) ...\n",
            "Selecting previously unselected package libcap2-bin.\n",
            "Preparing to unpack .../07-libcap2-bin_1%3a2.25-1.2_amd64.deb ...\n",
            "Unpacking libcap2-bin (1:2.25-1.2) ...\n",
            "Selecting previously unselected package libpam-cap:amd64.\n",
            "Preparing to unpack .../08-libpam-cap_1%3a2.25-1.2_amd64.deb ...\n",
            "Unpacking libpam-cap:amd64 (1:2.25-1.2) ...\n",
            "Selecting previously unselected package binfmt-support.\n",
            "Preparing to unpack .../09-binfmt-support_2.1.8-2_amd64.deb ...\n",
            "Unpacking binfmt-support (2.1.8-2) ...\n",
            "Selecting previously unselected package libmono-corlib4.5-cil.\n",
            "Preparing to unpack .../10-libmono-corlib4.5-cil_4.6.2.7+dfsg-1ubuntu1_all.deb ...\n",
            "Unpacking libmono-corlib4.5-cil (4.6.2.7+dfsg-1ubuntu1) ...\n",
            "Selecting previously unselected package libmono-system-xml4.0-cil.\n",
            "Preparing to unpack .../11-libmono-system-xml4.0-cil_4.6.2.7+dfsg-1ubuntu1_all.deb ...\n",
            "Unpacking libmono-system-xml4.0-cil (4.6.2.7+dfsg-1ubuntu1) ...\n",
            "Selecting previously unselected package libmono-system-security4.0-cil.\n",
            "Preparing to unpack .../12-libmono-system-security4.0-cil_4.6.2.7+dfsg-1ubuntu1_all.deb ...\n",
            "Unpacking libmono-system-security4.0-cil (4.6.2.7+dfsg-1ubuntu1) ...\n",
            "Selecting previously unselected package libmono-system-configuration4.0-cil.\n",
            "Preparing to unpack .../13-libmono-system-configuration4.0-cil_4.6.2.7+dfsg-1ubuntu1_all.deb ...\n",
            "Unpacking libmono-system-configuration4.0-cil (4.6.2.7+dfsg-1ubuntu1) ...\n",
            "Selecting previously unselected package libmono-system4.0-cil.\n",
            "Preparing to unpack .../14-libmono-system4.0-cil_4.6.2.7+dfsg-1ubuntu1_all.deb ...\n",
            "Unpacking libmono-system4.0-cil (4.6.2.7+dfsg-1ubuntu1) ...\n",
            "Selecting previously unselected package libmono-security4.0-cil.\n",
            "Preparing to unpack .../15-libmono-security4.0-cil_4.6.2.7+dfsg-1ubuntu1_all.deb ...\n",
            "Unpacking libmono-security4.0-cil (4.6.2.7+dfsg-1ubuntu1) ...\n",
            "Selecting previously unselected package mono-4.0-gac.\n",
            "Preparing to unpack .../16-mono-4.0-gac_4.6.2.7+dfsg-1ubuntu1_all.deb ...\n",
            "Unpacking mono-4.0-gac (4.6.2.7+dfsg-1ubuntu1) ...\n",
            "Selecting previously unselected package mono-gac.\n",
            "Preparing to unpack .../17-mono-gac_4.6.2.7+dfsg-1ubuntu1_all.deb ...\n",
            "Unpacking mono-gac (4.6.2.7+dfsg-1ubuntu1) ...\n",
            "Selecting previously unselected package mono-runtime-common.\n",
            "Preparing to unpack .../18-mono-runtime-common_4.6.2.7+dfsg-1ubuntu1_amd64.deb ...\n",
            "Unpacking mono-runtime-common (4.6.2.7+dfsg-1ubuntu1) ...\n",
            "Selecting previously unselected package mono-runtime-sgen.\n",
            "Preparing to unpack .../19-mono-runtime-sgen_4.6.2.7+dfsg-1ubuntu1_amd64.deb ...\n",
            "Unpacking mono-runtime-sgen (4.6.2.7+dfsg-1ubuntu1) ...\n",
            "Selecting previously unselected package mono-runtime.\n",
            "Preparing to unpack .../20-mono-runtime_4.6.2.7+dfsg-1ubuntu1_amd64.deb ...\n",
            "Unpacking mono-runtime (4.6.2.7+dfsg-1ubuntu1) ...\n",
            "Selecting previously unselected package ca-certificates-mono.\n",
            "Preparing to unpack .../21-ca-certificates-mono_4.6.2.7+dfsg-1ubuntu1_all.deb ...\n",
            "Unpacking ca-certificates-mono (4.6.2.7+dfsg-1ubuntu1) ...\n",
            "Selecting previously unselected package cli-common.\n",
            "Preparing to unpack .../22-cli-common_0.9+nmu1_all.deb ...\n",
            "Unpacking cli-common (0.9+nmu1) ...\n",
            "Selecting previously unselected package freepats.\n",
            "Preparing to unpack .../23-freepats_20060219-1_all.deb ...\n",
            "Unpacking freepats (20060219-1) ...\n",
            "Selecting previously unselected package libgstreamer1.0-0:amd64.\n",
            "Preparing to unpack .../24-libgstreamer1.0-0_1.14.5-0ubuntu1~18.04.1_amd64.deb ...\n",
            "Unpacking libgstreamer1.0-0:amd64 (1.14.5-0ubuntu1~18.04.1) ...\n",
            "Selecting previously unselected package liborc-0.4-0:amd64.\n",
            "Preparing to unpack .../25-liborc-0.4-0_1%3a0.4.28-1_amd64.deb ...\n",
            "Unpacking liborc-0.4-0:amd64 (1:0.4.28-1) ...\n",
            "Selecting previously unselected package libgstreamer-plugins-base1.0-0:amd64.\n",
            "Preparing to unpack .../26-libgstreamer-plugins-base1.0-0_1.14.5-0ubuntu1~18.04.1_amd64.deb ...\n",
            "Unpacking libgstreamer-plugins-base1.0-0:amd64 (1.14.5-0ubuntu1~18.04.1) ...\n",
            "Selecting previously unselected package gstreamer1.0-alsa:amd64.\n",
            "Preparing to unpack .../27-gstreamer1.0-alsa_1.14.5-0ubuntu1~18.04.1_amd64.deb ...\n",
            "Unpacking gstreamer1.0-alsa:amd64 (1.14.5-0ubuntu1~18.04.1) ...\n",
            "Selecting previously unselected package libgraphene-1.0-0:amd64.\n",
            "Preparing to unpack .../28-libgraphene-1.0-0_1.8.0-1_amd64.deb ...\n",
            "Unpacking libgraphene-1.0-0:amd64 (1.8.0-1) ...\n",
            "Selecting previously unselected package libgstreamer-gl1.0-0:amd64.\n",
            "Preparing to unpack .../29-libgstreamer-gl1.0-0_1.14.5-0ubuntu1~18.04.1_amd64.deb ...\n",
            "Unpacking libgstreamer-gl1.0-0:amd64 (1.14.5-0ubuntu1~18.04.1) ...\n",
            "Selecting previously unselected package gstreamer1.0-gl:amd64.\n",
            "Preparing to unpack .../30-gstreamer1.0-gl_1.14.5-0ubuntu1~18.04.1_amd64.deb ...\n",
            "Unpacking gstreamer1.0-gl:amd64 (1.14.5-0ubuntu1~18.04.1) ...\n",
            "Selecting previously unselected package libcdparanoia0:amd64.\n",
            "Preparing to unpack .../31-libcdparanoia0_3.10.2+debian-13_amd64.deb ...\n",
            "Unpacking libcdparanoia0:amd64 (3.10.2+debian-13) ...\n",
            "Selecting previously unselected package libvisual-0.4-0:amd64.\n",
            "Preparing to unpack .../32-libvisual-0.4-0_0.4.0-11_amd64.deb ...\n",
            "Unpacking libvisual-0.4-0:amd64 (0.4.0-11) ...\n",
            "Selecting previously unselected package gstreamer1.0-plugins-base:amd64.\n",
            "Preparing to unpack .../33-gstreamer1.0-plugins-base_1.14.5-0ubuntu1~18.04.1_amd64.deb ...\n",
            "Unpacking gstreamer1.0-plugins-base:amd64 (1.14.5-0ubuntu1~18.04.1) ...\n",
            "Selecting previously unselected package libgpm2:amd64.\n",
            "Preparing to unpack .../34-libgpm2_1.20.7-5_amd64.deb ...\n",
            "Unpacking libgpm2:amd64 (1.20.7-5) ...\n",
            "Selecting previously unselected package libaa1:amd64.\n",
            "Preparing to unpack .../35-libaa1_1.4p5-44build2_amd64.deb ...\n",
            "Unpacking libaa1:amd64 (1.4p5-44build2) ...\n",
            "Selecting previously unselected package libdv4:amd64.\n",
            "Preparing to unpack .../36-libdv4_1.0.0-11_amd64.deb ...\n",
            "Unpacking libdv4:amd64 (1.0.0-11) ...\n",
            "Selecting previously unselected package libgstreamer-plugins-good1.0-0:amd64.\n",
            "Preparing to unpack .../37-libgstreamer-plugins-good1.0-0_1.14.5-0ubuntu1~18.04.1_amd64.deb ...\n",
            "Unpacking libgstreamer-plugins-good1.0-0:amd64 (1.14.5-0ubuntu1~18.04.1) ...\n",
            "Selecting previously unselected package libshout3:amd64.\n",
            "Preparing to unpack .../38-libshout3_2.4.1-2build1_amd64.deb ...\n",
            "Unpacking libshout3:amd64 (2.4.1-2build1) ...\n",
            "Selecting previously unselected package libtag1v5-vanilla:amd64.\n",
            "Preparing to unpack .../39-libtag1v5-vanilla_1.11.1+dfsg.1-0.2build2_amd64.deb ...\n",
            "Unpacking libtag1v5-vanilla:amd64 (1.11.1+dfsg.1-0.2build2) ...\n",
            "Selecting previously unselected package libtag1v5:amd64.\n",
            "Preparing to unpack .../40-libtag1v5_1.11.1+dfsg.1-0.2build2_amd64.deb ...\n",
            "Unpacking libtag1v5:amd64 (1.11.1+dfsg.1-0.2build2) ...\n",
            "Selecting previously unselected package libv4lconvert0:amd64.\n",
            "Preparing to unpack .../41-libv4lconvert0_1.14.2-1_amd64.deb ...\n",
            "Unpacking libv4lconvert0:amd64 (1.14.2-1) ...\n",
            "Selecting previously unselected package libv4l-0:amd64.\n",
            "Preparing to unpack .../42-libv4l-0_1.14.2-1_amd64.deb ...\n",
            "Unpacking libv4l-0:amd64 (1.14.2-1) ...\n",
            "Selecting previously unselected package gstreamer1.0-plugins-good:amd64.\n",
            "Preparing to unpack .../43-gstreamer1.0-plugins-good_1.14.5-0ubuntu1~18.04.1_amd64.deb ...\n",
            "Unpacking gstreamer1.0-plugins-good:amd64 (1.14.5-0ubuntu1~18.04.1) ...\n",
            "Selecting previously unselected package liba52-0.7.4:amd64.\n",
            "Preparing to unpack .../44-liba52-0.7.4_0.7.4-19_amd64.deb ...\n",
            "Unpacking liba52-0.7.4:amd64 (0.7.4-19) ...\n",
            "Selecting previously unselected package libdvdread4:amd64.\n",
            "Preparing to unpack .../45-libdvdread4_6.0.0-1_amd64.deb ...\n",
            "Unpacking libdvdread4:amd64 (6.0.0-1) ...\n",
            "Selecting previously unselected package libmpeg2-4:amd64.\n",
            "Preparing to unpack .../46-libmpeg2-4_0.5.1-8_amd64.deb ...\n",
            "Unpacking libmpeg2-4:amd64 (0.5.1-8) ...\n",
            "Selecting previously unselected package libsidplay1v5:amd64.\n",
            "Preparing to unpack .../47-libsidplay1v5_1.36.59-11_amd64.deb ...\n",
            "Unpacking libsidplay1v5:amd64 (1.36.59-11) ...\n",
            "Selecting previously unselected package gstreamer1.0-plugins-ugly:amd64.\n",
            "Preparing to unpack .../48-gstreamer1.0-plugins-ugly_1.14.5-0ubuntu1~18.04.1_amd64.deb ...\n",
            "Unpacking gstreamer1.0-plugins-ugly:amd64 (1.14.5-0ubuntu1~18.04.1) ...\n",
            "Selecting previously unselected package libgstreamer-plugins-bad1.0-0:amd64.\n",
            "Preparing to unpack .../49-libgstreamer-plugins-bad1.0-0_1.14.5-0ubuntu1~18.04.1_amd64.deb ...\n",
            "Unpacking libgstreamer-plugins-bad1.0-0:amd64 (1.14.5-0ubuntu1~18.04.1) ...\n",
            "Selecting previously unselected package libva-wayland2:amd64.\n",
            "Preparing to unpack .../50-libva-wayland2_2.1.0-3_amd64.deb ...\n",
            "Unpacking libva-wayland2:amd64 (2.1.0-3) ...\n",
            "Selecting previously unselected package gstreamer1.0-vaapi:amd64.\n",
            "Preparing to unpack .../51-gstreamer1.0-vaapi_1.14.5-0ubuntu1~ubuntu18.04.1_amd64.deb ...\n",
            "Unpacking gstreamer1.0-vaapi:amd64 (1.14.5-0ubuntu1~ubuntu18.04.1) ...\n",
            "Selecting previously unselected package gstreamer1.0-x:amd64.\n",
            "Preparing to unpack .../52-gstreamer1.0-x_1.14.5-0ubuntu1~18.04.1_amd64.deb ...\n",
            "Unpacking gstreamer1.0-x:amd64 (1.14.5-0ubuntu1~18.04.1) ...\n",
            "Selecting previously unselected package libde265-0:amd64.\n",
            "Preparing to unpack .../53-libde265-0_1.0.2-2build1_amd64.deb ...\n",
            "Unpacking libde265-0:amd64 (1.0.2-2build1) ...\n",
            "Selecting previously unselected package libdvdnav4:amd64.\n",
            "Preparing to unpack .../54-libdvdnav4_6.0.0-1_amd64.deb ...\n",
            "Unpacking libdvdnav4:amd64 (6.0.0-1) ...\n",
            "Selecting previously unselected package libfaac0:amd64.\n",
            "Preparing to unpack .../55-libfaac0_1.29.7.7-1_amd64.deb ...\n",
            "Unpacking libfaac0:amd64 (1.29.7.7-1) ...\n",
            "Selecting previously unselected package libfaad2:amd64.\n",
            "Preparing to unpack .../56-libfaad2_2.8.8-1_amd64.deb ...\n",
            "Unpacking libfaad2:amd64 (2.8.8-1) ...\n",
            "Selecting previously unselected package libfl2:amd64.\n",
            "Preparing to unpack .../57-libfl2_2.6.4-6_amd64.deb ...\n",
            "Unpacking libfl2:amd64 (2.6.4-6) ...\n",
            "Selecting previously unselected package libfl-dev:amd64.\n",
            "Preparing to unpack .../58-libfl-dev_2.6.4-6_amd64.deb ...\n",
            "Unpacking libfl-dev:amd64 (2.6.4-6) ...\n",
            "Selecting previously unselected package libfluidsynth1:amd64.\n",
            "Preparing to unpack .../59-libfluidsynth1_1.1.9-1_amd64.deb ...\n",
            "Unpacking libfluidsynth1:amd64 (1.1.9-1) ...\n",
            "Selecting previously unselected package libglib2.0-cil.\n",
            "Preparing to unpack .../60-libglib2.0-cil_2.12.40-2_amd64.deb ...\n",
            "Unpacking libglib2.0-cil (2.12.40-2) ...\n",
            "Selecting previously unselected package libglib2.0-cil-dev.\n",
            "Preparing to unpack .../61-libglib2.0-cil-dev_2.12.40-2_amd64.deb ...\n",
            "Unpacking libglib2.0-cil-dev (2.12.40-2) ...\n",
            "Selecting previously unselected package libglib2.0-doc.\n",
            "Preparing to unpack .../62-libglib2.0-doc_2.56.4-0ubuntu0.18.04.6_all.deb ...\n",
            "Unpacking libglib2.0-doc (2.56.4-0ubuntu0.18.04.6) ...\n",
            "Selecting previously unselected package libglib2.0-tests.\n",
            "Preparing to unpack .../63-libglib2.0-tests_2.56.4-0ubuntu0.18.04.6_amd64.deb ...\n",
            "Unpacking libglib2.0-tests (2.56.4-0ubuntu0.18.04.6) ...\n",
            "Selecting previously unselected package libgssdp-1.0-3:amd64.\n",
            "Preparing to unpack .../64-libgssdp-1.0-3_1.0.2-2_amd64.deb ...\n",
            "Unpacking libgssdp-1.0-3:amd64 (1.0.2-2) ...\n",
            "Selecting previously unselected package libgupnp-1.0-4:amd64.\n",
            "Preparing to unpack .../65-libgupnp-1.0-4_1.0.2-2_amd64.deb ...\n",
            "Unpacking libgupnp-1.0-4:amd64 (1.0.2-2) ...\n",
            "Selecting previously unselected package libgupnp-igd-1.0-4:amd64.\n",
            "Preparing to unpack .../66-libgupnp-igd-1.0-4_0.2.5-1_amd64.deb ...\n",
            "Unpacking libgupnp-igd-1.0-4:amd64 (0.2.5-1) ...\n",
            "Selecting previously unselected package libkate1:amd64.\n",
            "Preparing to unpack .../67-libkate1_0.4.1-7build1_amd64.deb ...\n",
            "Unpacking libkate1:amd64 (0.4.1-7build1) ...\n",
            "Selecting previously unselected package libserd-0-0:amd64.\n",
            "Preparing to unpack .../68-libserd-0-0_0.28.0~dfsg0-1_amd64.deb ...\n",
            "Unpacking libserd-0-0:amd64 (0.28.0~dfsg0-1) ...\n",
            "Selecting previously unselected package libsord-0-0:amd64.\n",
            "Preparing to unpack .../69-libsord-0-0_0.16.0~dfsg0-1_amd64.deb ...\n",
            "Unpacking libsord-0-0:amd64 (0.16.0~dfsg0-1) ...\n",
            "Selecting previously unselected package libsratom-0-0:amd64.\n",
            "Preparing to unpack .../70-libsratom-0-0_0.6.0~dfsg0-1_amd64.deb ...\n",
            "Unpacking libsratom-0-0:amd64 (0.6.0~dfsg0-1) ...\n",
            "Selecting previously unselected package liblilv-0-0.\n",
            "Preparing to unpack .../71-liblilv-0-0_0.24.2~dfsg0-1_amd64.deb ...\n",
            "Unpacking liblilv-0-0 (0.24.2~dfsg0-1) ...\n",
            "Selecting previously unselected package libmjpegutils-2.1-0.\n",
            "Preparing to unpack .../72-libmjpegutils-2.1-0_1%3a2.1.0+debian-5_amd64.deb ...\n",
            "Unpacking libmjpegutils-2.1-0 (1:2.1.0+debian-5) ...\n",
            "Selecting previously unselected package libmms0:amd64.\n",
            "Preparing to unpack .../73-libmms0_0.6.4-2_amd64.deb ...\n",
            "Unpacking libmms0:amd64 (0.6.4-2) ...\n",
            "Selecting previously unselected package libmodplug1:amd64.\n",
            "Preparing to unpack .../74-libmodplug1_1%3a0.8.9.0-1_amd64.deb ...\n",
            "Unpacking libmodplug1:amd64 (1:0.8.9.0-1) ...\n",
            "Selecting previously unselected package libmono-i18n4.0-cil.\n",
            "Preparing to unpack .../75-libmono-i18n4.0-cil_4.6.2.7+dfsg-1ubuntu1_all.deb ...\n",
            "Unpacking libmono-i18n4.0-cil (4.6.2.7+dfsg-1ubuntu1) ...\n",
            "Selecting previously unselected package libmono-i18n-west4.0-cil.\n",
            "Preparing to unpack .../76-libmono-i18n-west4.0-cil_4.6.2.7+dfsg-1ubuntu1_all.deb ...\n",
            "Unpacking libmono-i18n-west4.0-cil (4.6.2.7+dfsg-1ubuntu1) ...\n",
            "Selecting previously unselected package libmpcdec6:amd64.\n",
            "Preparing to unpack .../77-libmpcdec6_2%3a0.1~r495-1_amd64.deb ...\n",
            "Unpacking libmpcdec6:amd64 (2:0.1~r495-1) ...\n",
            "Selecting previously unselected package libmpeg2encpp-2.1-0.\n",
            "Preparing to unpack .../78-libmpeg2encpp-2.1-0_1%3a2.1.0+debian-5_amd64.deb ...\n",
            "Unpacking libmpeg2encpp-2.1-0 (1:2.1.0+debian-5) ...\n",
            "Selecting previously unselected package libmplex2-2.1-0.\n",
            "Preparing to unpack .../79-libmplex2-2.1-0_1%3a2.1.0+debian-5_amd64.deb ...\n",
            "Unpacking libmplex2-2.1-0 (1:2.1.0+debian-5) ...\n",
            "Selecting previously unselected package libnice10:amd64.\n",
            "Preparing to unpack .../80-libnice10_0.1.14-1_amd64.deb ...\n",
            "Unpacking libnice10:amd64 (0.1.14-1) ...\n",
            "Selecting previously unselected package libofa0:amd64.\n",
            "Preparing to unpack .../81-libofa0_0.9.3-15_amd64.deb ...\n",
            "Unpacking libofa0:amd64 (0.9.3-15) ...\n",
            "Selecting previously unselected package libsoundtouch1:amd64.\n",
            "Preparing to unpack .../82-libsoundtouch1_1.9.2-3_amd64.deb ...\n",
            "Unpacking libsoundtouch1:amd64 (1.9.2-3) ...\n",
            "Selecting previously unselected package libspandsp2:amd64.\n",
            "Preparing to unpack .../83-libspandsp2_0.0.6+dfsg-0.1_amd64.deb ...\n",
            "Unpacking libspandsp2:amd64 (0.0.6+dfsg-0.1) ...\n",
            "Selecting previously unselected package libsrtp2-1:amd64.\n",
            "Preparing to unpack .../84-libsrtp2-1_2.1.0-1_amd64.deb ...\n",
            "Unpacking libsrtp2-1:amd64 (2.1.0-1) ...\n",
            "Selecting previously unselected package libtag-extras1.\n",
            "Preparing to unpack .../85-libtag-extras1_1.0.1-3.1_amd64.deb ...\n",
            "Unpacking libtag-extras1 (1.0.1-3.1) ...\n",
            "Selecting previously unselected package libusb-1.0-0-dev:amd64.\n",
            "Preparing to unpack .../86-libusb-1.0-0-dev_2%3a1.0.21-2_amd64.deb ...\n",
            "Unpacking libusb-1.0-0-dev:amd64 (2:1.0.21-2) ...\n",
            "Selecting previously unselected package libusb-1.0-doc.\n",
            "Preparing to unpack .../87-libusb-1.0-doc_2%3a1.0.21-2_all.deb ...\n",
            "Unpacking libusb-1.0-doc (2:1.0.21-2) ...\n",
            "Selecting previously unselected package libvulkan1:amd64.\n",
            "Preparing to unpack .../88-libvulkan1_1.1.126.0-2~gpu18.04.1_amd64.deb ...\n",
            "Unpacking libvulkan1:amd64 (1.1.126.0-2~gpu18.04.1) ...\n",
            "Selecting previously unselected package libwebrtc-audio-processing1:amd64.\n",
            "Preparing to unpack .../89-libwebrtc-audio-processing1_0.3-1_amd64.deb ...\n",
            "Unpacking libwebrtc-audio-processing1:amd64 (0.3-1) ...\n",
            "Selecting previously unselected package libwildmidi-config.\n",
            "Preparing to unpack .../90-libwildmidi-config_0.4.2-1_all.deb ...\n",
            "Unpacking libwildmidi-config (0.4.2-1) ...\n",
            "Selecting previously unselected package libwildmidi2:amd64.\n",
            "Preparing to unpack .../91-libwildmidi2_0.4.2-1_amd64.deb ...\n",
            "Unpacking libwildmidi2:amd64 (0.4.2-1) ...\n",
            "Selecting previously unselected package libzbar0:amd64.\n",
            "Preparing to unpack .../92-libzbar0_0.10+doc-10.1build2_amd64.deb ...\n",
            "Unpacking libzbar0:amd64 (0.10+doc-10.1build2) ...\n",
            "Selecting previously unselected package mesa-vulkan-drivers:amd64.\n",
            "Preparing to unpack .../93-mesa-vulkan-drivers_20.0.8-0ubuntu1~18.04.1_amd64.deb ...\n",
            "Unpacking mesa-vulkan-drivers:amd64 (20.0.8-0ubuntu1~18.04.1) ...\n",
            "Selecting previously unselected package libdca0:amd64.\n",
            "Preparing to unpack .../94-libdca0_0.0.5-10_amd64.deb ...\n",
            "Unpacking libdca0:amd64 (0.0.5-10) ...\n",
            "Selecting previously unselected package libsbc1:amd64.\n",
            "Preparing to unpack .../95-libsbc1_1.3-2_amd64.deb ...\n",
            "Unpacking libsbc1:amd64 (1.3-2) ...\n",
            "Selecting previously unselected package gstreamer1.0-plugins-bad:amd64.\n",
            "Preparing to unpack .../96-gstreamer1.0-plugins-bad_1.14.5-0ubuntu1~18.04.1_amd64.deb ...\n",
            "Unpacking gstreamer1.0-plugins-bad:amd64 (1.14.5-0ubuntu1~18.04.1) ...\n",
            "Setting up libvulkan1:amd64 (1.1.126.0-2~gpu18.04.1) ...\n",
            "Setting up binfmt-support (2.1.8-2) ...\n",
            "update-binfmts: warning: /usr/share/binfmts/cli: no executable /usr/bin/cli found, but continuing anyway as you request\n",
            "Created symlink /etc/systemd/system/multi-user.target.wants/binfmt-support.service → /lib/systemd/system/binfmt-support.service.\n",
            "invoke-rc.d: could not determine current runlevel\n",
            "invoke-rc.d: policy-rc.d denied execution of start.\n",
            "Setting up libglib2.0-doc (2.56.4-0ubuntu0.18.04.6) ...\n",
            "Setting up libsbc1:amd64 (1.3-2) ...\n",
            "Setting up libmpeg2-4:amd64 (0.5.1-8) ...\n",
            "Setting up libfaac0:amd64 (1.29.7.7-1) ...\n",
            "Setting up libmms0:amd64 (0.6.4-2) ...\n",
            "Setting up mesa-vulkan-drivers:amd64 (20.0.8-0ubuntu1~18.04.1) ...\n",
            "Setting up libsidplay1v5:amd64 (1.36.59-11) ...\n",
            "Setting up libpam-cap:amd64 (1:2.25-1.2) ...\n",
            "Setting up libmodplug1:amd64 (1:0.8.9.0-1) ...\n",
            "Setting up libde265-0:amd64 (1.0.2-2build1) ...\n",
            "Setting up libusb-1.0-doc (2:1.0.21-2) ...\n",
            "Setting up libmpcdec6:amd64 (2:0.1~r495-1) ...\n",
            "Setting up libsigsegv2:amd64 (2.12-1) ...\n",
            "Setting up libgpm2:amd64 (1.20.7-5) ...\n",
            "Setting up libcap2-bin (1:2.25-1.2) ...\n",
            "Setting up libv4lconvert0:amd64 (1.14.2-1) ...\n",
            "Setting up libwebrtc-audio-processing1:amd64 (0.3-1) ...\n",
            "Setting up libva-wayland2:amd64 (2.1.0-3) ...\n",
            "Setting up libfaad2:amd64 (2.8.8-1) ...\n",
            "Setting up libkate1:amd64 (0.4.1-7build1) ...\n",
            "Setting up libspandsp2:amd64 (0.0.6+dfsg-0.1) ...\n",
            "Setting up m4 (1.4.18-1) ...\n",
            "Setting up libcdparanoia0:amd64 (3.10.2+debian-13) ...\n",
            "Setting up libvo-aacenc0:amd64 (0.1.3-1) ...\n",
            "Setting up libgssdp-1.0-3:amd64 (1.0.2-2) ...\n",
            "Setting up libwildmidi-config (0.4.2-1) ...\n",
            "Setting up liba52-0.7.4:amd64 (0.7.4-19) ...\n",
            "Setting up libmjpegutils-2.1-0 (1:2.1.0+debian-5) ...\n",
            "Setting up libvo-amrwbenc0:amd64 (0.1.3-1) ...\n",
            "Setting up libaa1:amd64 (1.4p5-44build2) ...\n",
            "Setting up libglib2.0-tests (2.56.4-0ubuntu0.18.04.6) ...\n",
            "Setting up libusb-1.0-0-dev:amd64 (2:1.0.21-2) ...\n",
            "Setting up libofa0:amd64 (0.9.3-15) ...\n",
            "Setting up libvisual-0.4-0:amd64 (0.4.0-11) ...\n",
            "Setting up libfl2:amd64 (2.6.4-6) ...\n",
            "Setting up libopencore-amrnb0:amd64 (0.1.3-2.1) ...\n",
            "Setting up libgraphene-1.0-0:amd64 (1.8.0-1) ...\n",
            "Setting up liborc-0.4-0:amd64 (1:0.4.28-1) ...\n",
            "Setting up libsrtp2-1:amd64 (2.1.0-1) ...\n",
            "Setting up libsoundtouch1:amd64 (1.9.2-3) ...\n",
            "Setting up libdca0:amd64 (0.0.5-10) ...\n",
            "Setting up libserd-0-0:amd64 (0.28.0~dfsg0-1) ...\n",
            "Setting up freepats (20060219-1) ...\n",
            "Setting up libopencore-amrwb0:amd64 (0.1.3-2.1) ...\n",
            "Setting up libshout3:amd64 (2.4.1-2build1) ...\n",
            "Setting up cli-common (0.9+nmu1) ...\n",
            "Setting up libfluidsynth1:amd64 (1.1.9-1) ...\n",
            "Setting up libmplex2-2.1-0 (1:2.1.0+debian-5) ...\n",
            "Setting up libdv4:amd64 (1.0.0-11) ...\n",
            "Setting up libtag1v5-vanilla:amd64 (1.11.1+dfsg.1-0.2build2) ...\n",
            "Setting up libdvdread4:amd64 (6.0.0-1) ...\n",
            "Setting up libmpeg2encpp-2.1-0 (1:2.1.0+debian-5) ...\n",
            "Setting up libtag1v5:amd64 (1.11.1+dfsg.1-0.2build2) ...\n",
            "Setting up libgstreamer1.0-0:amd64 (1.14.5-0ubuntu1~18.04.1) ...\n",
            "Setcap worked! gst-ptp-helper is not suid!\n",
            "Setting up libgupnp-1.0-4:amd64 (1.0.2-2) ...\n",
            "Setting up libv4l-0:amd64 (1.14.2-1) ...\n",
            "Setting up flex (2.6.4-6) ...\n",
            "Setting up libdvdnav4:amd64 (6.0.0-1) ...\n",
            "Setting up libsord-0-0:amd64 (0.16.0~dfsg0-1) ...\n",
            "Setting up libwildmidi2:amd64 (0.4.2-1) ...\n",
            "Setting up libgupnp-igd-1.0-4:amd64 (0.2.5-1) ...\n",
            "Setting up libfl-dev:amd64 (2.6.4-6) ...\n",
            "Setting up libnice10:amd64 (0.1.14-1) ...\n",
            "Setting up libtag-extras1 (1.0.1-3.1) ...\n",
            "Setting up libgstreamer-plugins-base1.0-0:amd64 (1.14.5-0ubuntu1~18.04.1) ...\n",
            "Setting up libsratom-0-0:amd64 (0.6.0~dfsg0-1) ...\n",
            "Setting up gstreamer1.0-plugins-base:amd64 (1.14.5-0ubuntu1~18.04.1) ...\n",
            "Setting up liblilv-0-0 (0.24.2~dfsg0-1) ...\n",
            "Setting up libzbar0:amd64 (0.10+doc-10.1build2) ...\n",
            "Setting up libgstreamer-gl1.0-0:amd64 (1.14.5-0ubuntu1~18.04.1) ...\n",
            "Setting up gstreamer1.0-gl:amd64 (1.14.5-0ubuntu1~18.04.1) ...\n",
            "Setting up libgstreamer-plugins-bad1.0-0:amd64 (1.14.5-0ubuntu1~18.04.1) ...\n",
            "Setting up gstreamer1.0-vaapi:amd64 (1.14.5-0ubuntu1~ubuntu18.04.1) ...\n",
            "Setting up gstreamer1.0-plugins-ugly:amd64 (1.14.5-0ubuntu1~18.04.1) ...\n",
            "Setting up gstreamer1.0-x:amd64 (1.14.5-0ubuntu1~18.04.1) ...\n",
            "Setting up libgstreamer-plugins-good1.0-0:amd64 (1.14.5-0ubuntu1~18.04.1) ...\n",
            "Setting up gstreamer1.0-alsa:amd64 (1.14.5-0ubuntu1~18.04.1) ...\n",
            "Setting up gstreamer1.0-plugins-bad:amd64 (1.14.5-0ubuntu1~18.04.1) ...\n",
            "Setting up gstreamer1.0-plugins-good:amd64 (1.14.5-0ubuntu1~18.04.1) ...\n",
            "Setting up mono-4.0-gac (4.6.2.7+dfsg-1ubuntu1) ...\n",
            "Setting up mono-gac (4.6.2.7+dfsg-1ubuntu1) ...\n",
            "update-alternatives: using /usr/bin/gacutil to provide /usr/bin/cli-gacutil (global-assembly-cache-tool) in auto mode\n",
            "Setting up mono-runtime-common (4.6.2.7+dfsg-1ubuntu1) ...\n",
            "update-binfmts: warning: /usr/share/binfmts/cli: no executable /usr/bin/cli found, but continuing anyway as you request\n",
            "Setting up libmono-security4.0-cil (4.6.2.7+dfsg-1ubuntu1) ...\n",
            "Setting up mono-runtime-sgen (4.6.2.7+dfsg-1ubuntu1) ...\n",
            "Setting up mono-runtime (4.6.2.7+dfsg-1ubuntu1) ...\n",
            "update-alternatives: using /usr/bin/mono to provide /usr/bin/cli (cli) in auto mode\n",
            "Setting up libmono-corlib4.5-cil (4.6.2.7+dfsg-1ubuntu1) ...\n",
            "Setting up ca-certificates-mono (4.6.2.7+dfsg-1ubuntu1) ...\n",
            "Setting up libmono-i18n4.0-cil (4.6.2.7+dfsg-1ubuntu1) ...\n",
            "Setting up libmono-system-xml4.0-cil (4.6.2.7+dfsg-1ubuntu1) ...\n",
            "Setting up libmono-i18n-west4.0-cil (4.6.2.7+dfsg-1ubuntu1) ...\n",
            "Setting up libmono-system-configuration4.0-cil (4.6.2.7+dfsg-1ubuntu1) ...\n",
            "Setting up libmono-system4.0-cil (4.6.2.7+dfsg-1ubuntu1) ...\n",
            "Setting up libglib2.0-cil (2.12.40-2) ...\n",
            "* Installing 1 assembly from libglib2.0-cil into Mono\n",
            "Setting up libmono-system-security4.0-cil (4.6.2.7+dfsg-1ubuntu1) ...\n",
            "Setting up libglib2.0-cil-dev (2.12.40-2) ...\n",
            "Processing triggers for libc-bin (2.27-3ubuntu1.4) ...\n",
            "/sbin/ldconfig.real: /usr/local/lib/python3.6/dist-packages/ideep4py/lib/libmkldnn.so.0 is not a symbolic link\n",
            "\n",
            "Processing triggers for systemd (237-3ubuntu10.44) ...\n",
            "Processing triggers for man-db (2.8.3-2ubuntu0.1) ...\n",
            "Processing triggers for ca-certificates (20201027ubuntu0.18.04.1) ...\n",
            "Updating certificates in /etc/ssl/certs...\n",
            "0 added, 0 removed; done.\n",
            "Running hooks in /etc/ca-certificates/update.d...\n",
            "\n",
            "done.\n",
            "Updating Mono key store\n",
            "Linux Cert Store Sync - version 4.6.2.0\n",
            "Synchronize local certs with certs from local Linux trust store.\n",
            "Copyright 2002, 2003 Motus Technologies. Copyright 2004-2008 Novell. BSD licensed.\n",
            "\n",
            "I already trust 0, your new list has 138\n",
            "Certificate added: CN=ACCVRAIZ1, OU=PKIACCV, O=ACCV, C=ES\n",
            "Certificate added: C=ES, O=FNMT-RCM, OU=AC RAIZ FNMT-RCM\n",
            "Certificate added: C=IT, L=Milan, O=Actalis S.p.A./03358520967, CN=Actalis Authentication Root CA\n",
            "Certificate added: C=US, O=AffirmTrust, CN=AffirmTrust Commercial\n",
            "Certificate added: C=US, O=AffirmTrust, CN=AffirmTrust Networking\n",
            "Certificate added: C=US, O=AffirmTrust, CN=AffirmTrust Premium\n",
            "Certificate added: C=US, O=AffirmTrust, CN=AffirmTrust Premium ECC\n",
            "Certificate added: C=US, O=Amazon, CN=Amazon Root CA 1\n",
            "Certificate added: C=US, O=Amazon, CN=Amazon Root CA 2\n",
            "Certificate added: C=US, O=Amazon, CN=Amazon Root CA 3\n",
            "Certificate added: C=US, O=Amazon, CN=Amazon Root CA 4\n",
            "Certificate added: CN=Atos TrustedRoot 2011, O=Atos, C=DE\n",
            "Certificate added: C=ES, CN=Autoridad de Certificacion Firmaprofesional CIF A62634068\n",
            "Certificate added: C=IE, O=Baltimore, OU=CyberTrust, CN=Baltimore CyberTrust Root\n",
            "Certificate added: C=NO, O=Buypass AS-983163327, CN=Buypass Class 2 Root CA\n",
            "Certificate added: C=NO, O=Buypass AS-983163327, CN=Buypass Class 3 Root CA\n",
            "Certificate added: C=SK, L=Bratislava, O=Disig a.s., CN=CA Disig Root R2\n",
            "Certificate added: C=CN, O=China Financial Certification Authority, CN=CFCA EV ROOT\n",
            "Certificate added: C=GB, S=Greater Manchester, L=Salford, O=COMODO CA Limited, CN=COMODO Certification Authority\n",
            "Certificate added: C=GB, S=Greater Manchester, L=Salford, O=COMODO CA Limited, CN=COMODO ECC Certification Authority\n",
            "Certificate added: C=GB, S=Greater Manchester, L=Salford, O=COMODO CA Limited, CN=COMODO RSA Certification Authority\n",
            "Certificate added: C=FR, O=Dhimyotis, CN=Certigna\n",
            "Certificate added: C=FR, O=Dhimyotis, OU=0002 48146308100036, CN=Certigna Root CA\n",
            "Certificate added: C=PL, O=Unizeto Technologies S.A., OU=Certum Certification Authority, CN=Certum Trusted Network CA\n",
            "Certificate added: C=PL, O=Unizeto Technologies S.A., OU=Certum Certification Authority, CN=Certum Trusted Network CA 2\n",
            "Certificate added: C=EU, L=Madrid (see current address at www.camerfirma.com/address), OID.2.5.4.5=A82743287, O=AC Camerfirma S.A., CN=Chambers of Commerce Root - 2008\n",
            "Certificate added: C=GB, S=Greater Manchester, L=Salford, O=Comodo CA Limited, CN=AAA Certificate Services\n",
            "Certificate added: O=\"Cybertrust, Inc\", CN=Cybertrust Global Root\n",
            "Certificate added: C=DE, O=D-Trust GmbH, CN=D-TRUST Root Class 3 CA 2 2009\n",
            "Certificate added: C=DE, O=D-Trust GmbH, CN=D-TRUST Root Class 3 CA 2 EV 2009\n",
            "Certificate added: O=Digital Signature Trust Co., CN=DST Root CA X3\n",
            "Certificate added: C=US, O=DigiCert Inc, OU=www.digicert.com, CN=DigiCert Assured ID Root CA\n",
            "Certificate added: C=US, O=DigiCert Inc, OU=www.digicert.com, CN=DigiCert Assured ID Root G2\n",
            "Certificate added: C=US, O=DigiCert Inc, OU=www.digicert.com, CN=DigiCert Assured ID Root G3\n",
            "Certificate added: C=US, O=DigiCert Inc, OU=www.digicert.com, CN=DigiCert Global Root CA\n",
            "Certificate added: C=US, O=DigiCert Inc, OU=www.digicert.com, CN=DigiCert Global Root G2\n",
            "Certificate added: C=US, O=DigiCert Inc, OU=www.digicert.com, CN=DigiCert Global Root G3\n",
            "Certificate added: C=US, O=DigiCert Inc, OU=www.digicert.com, CN=DigiCert High Assurance EV Root CA\n",
            "Certificate added: C=US, O=DigiCert Inc, OU=www.digicert.com, CN=DigiCert Trusted Root G4\n",
            "Certificate added: C=TR, L=Ankara, O=E-Tuğra EBG Bilişim Teknolojileri ve Hizmetleri A.Ş., OU=E-Tugra Sertifikasyon Merkezi, CN=E-Tugra Certification Authority\n",
            "Certificate added: C=ES, O=Agencia Catalana de Certificacio (NIF Q-0801176-I), OU=Serveis Publics de Certificacio, OU=Vegeu https://www.catcert.net/verarrel (c)03, OU=Jerarquia Entitats de Certificacio Catalanes, CN=EC-ACC\n",
            "Certificate added: O=Entrust.net, OU=www.entrust.net/CPS_2048 incorp. by ref. (limits liab.), OU=(c) 1999 Entrust.net Limited, CN=Entrust.net Certification Authority (2048)\n",
            "Certificate added: C=US, O=\"Entrust, Inc.\", OU=www.entrust.net/CPS is incorporated by reference, OU=\"(c) 2006 Entrust, Inc.\", CN=Entrust Root Certification Authority\n",
            "Certificate added: C=US, O=\"Entrust, Inc.\", OU=See www.entrust.net/legal-terms, OU=\"(c) 2012 Entrust, Inc. - for authorized use only\", CN=Entrust Root Certification Authority - EC1\n",
            "Certificate added: C=US, O=\"Entrust, Inc.\", OU=See www.entrust.net/legal-terms, OU=\"(c) 2009 Entrust, Inc. - for authorized use only\", CN=Entrust Root Certification Authority - G2\n",
            "Certificate added: C=US, O=\"Entrust, Inc.\", OU=See www.entrust.net/legal-terms, OU=\"(c) 2015 Entrust, Inc. - for authorized use only\", CN=Entrust Root Certification Authority - G4\n",
            "Certificate added: C=CN, O=\"GUANG DONG CERTIFICATE AUTHORITY CO.,LTD.\", CN=GDCA TrustAUTH R5 ROOT\n",
            "Certificate added: C=US, O=Google Trust Services LLC, CN=GTS Root R1\n",
            "Certificate added: C=US, O=Google Trust Services LLC, CN=GTS Root R2\n",
            "Certificate added: C=US, O=Google Trust Services LLC, CN=GTS Root R3\n",
            "Certificate added: C=US, O=Google Trust Services LLC, CN=GTS Root R4\n",
            "Certificate added: C=US, O=GeoTrust Inc., CN=GeoTrust Global CA\n",
            "Certificate added: C=US, O=GeoTrust Inc., CN=GeoTrust Primary Certification Authority\n",
            "Certificate added: C=US, O=GeoTrust Inc., OU=(c) 2007 GeoTrust Inc. - For authorized use only, CN=GeoTrust Primary Certification Authority - G2\n",
            "Certificate added: C=US, O=GeoTrust Inc., OU=(c) 2008 GeoTrust Inc. - For authorized use only, CN=GeoTrust Primary Certification Authority - G3\n",
            "Certificate added: C=US, O=GeoTrust Inc., CN=GeoTrust Universal CA\n",
            "Certificate added: C=US, O=GeoTrust Inc., CN=GeoTrust Universal CA 2\n",
            "Certificate added: OU=GlobalSign ECC Root CA - R4, O=GlobalSign, CN=GlobalSign\n",
            "Certificate added: OU=GlobalSign ECC Root CA - R5, O=GlobalSign, CN=GlobalSign\n",
            "Certificate added: C=BE, O=GlobalSign nv-sa, OU=Root CA, CN=GlobalSign Root CA\n",
            "Certificate added: OU=GlobalSign Root CA - R2, O=GlobalSign, CN=GlobalSign\n",
            "Certificate added: OU=GlobalSign Root CA - R3, O=GlobalSign, CN=GlobalSign\n",
            "Certificate added: OU=GlobalSign Root CA - R6, O=GlobalSign, CN=GlobalSign\n",
            "Certificate added: C=EU, L=Madrid (see current address at www.camerfirma.com/address), OID.2.5.4.5=A82743287, O=AC Camerfirma S.A., CN=Global Chambersign Root - 2008\n",
            "Certificate added: C=US, O=\"The Go Daddy Group, Inc.\", OU=Go Daddy Class 2 Certification Authority\n",
            "Certificate added: C=US, S=Arizona, L=Scottsdale, O=\"GoDaddy.com, Inc.\", CN=Go Daddy Root Certificate Authority - G2\n",
            "Certificate added: C=GR, L=Athens, O=Hellenic Academic and Research Institutions Cert. Authority, CN=Hellenic Academic and Research Institutions ECC RootCA 2015\n",
            "Certificate added: C=GR, O=Hellenic Academic and Research Institutions Cert. Authority, CN=Hellenic Academic and Research Institutions RootCA 2011\n",
            "Certificate added: C=GR, L=Athens, O=Hellenic Academic and Research Institutions Cert. Authority, CN=Hellenic Academic and Research Institutions RootCA 2015\n",
            "Certificate added: C=HK, O=Hongkong Post, CN=Hongkong Post Root CA 1\n",
            "Certificate added: C=HK, S=Hong Kong, L=Hong Kong, O=Hongkong Post, CN=Hongkong Post Root CA 3\n",
            "Certificate added: C=US, O=Internet Security Research Group, CN=ISRG Root X1\n",
            "Certificate added: C=US, O=IdenTrust, CN=IdenTrust Commercial Root CA 1\n",
            "Certificate added: C=US, O=IdenTrust, CN=IdenTrust Public Sector Root CA 1\n",
            "Certificate added: C=ES, O=IZENPE S.A., CN=Izenpe.com\n",
            "Certificate added: C=HU, L=Budapest, O=Microsec Ltd., CN=Microsec e-Szigno Root CA 2009, E=info@e-szigno.hu\n",
            "Certificate added: C=US, O=Microsoft Corporation, CN=Microsoft ECC Root Certificate Authority 2017\n",
            "Certificate added: C=US, O=Microsoft Corporation, CN=Microsoft RSA Root Certificate Authority 2017\n",
            "Certificate added: C=HU, L=Budapest, O=NetLock Kft., OU=Tanúsítványkiadók (Certification Services), CN=NetLock Arany (Class Gold) Főtanúsítvány\n",
            "Certificate added: C=US, O=Network Solutions L.L.C., CN=Network Solutions Certificate Authority\n",
            "Certificate added: C=CH, O=WISeKey, OU=OISTE Foundation Endorsed, CN=OISTE WISeKey Global Root GB CA\n",
            "Certificate added: C=CH, O=WISeKey, OU=OISTE Foundation Endorsed, CN=OISTE WISeKey Global Root GC CA\n",
            "Certificate added: C=BM, O=QuoVadis Limited, OU=Root Certification Authority, CN=QuoVadis Root Certification Authority\n",
            "Certificate added: C=BM, O=QuoVadis Limited, CN=QuoVadis Root CA 1 G3\n",
            "Certificate added: C=BM, O=QuoVadis Limited, CN=QuoVadis Root CA 2\n",
            "Certificate added: C=BM, O=QuoVadis Limited, CN=QuoVadis Root CA 2 G3\n",
            "Certificate added: C=BM, O=QuoVadis Limited, CN=QuoVadis Root CA 3\n",
            "Certificate added: C=BM, O=QuoVadis Limited, CN=QuoVadis Root CA 3 G3\n",
            "Certificate added: C=US, S=Texas, L=Houston, O=SSL Corporation, CN=SSL.com EV Root Certification Authority ECC\n",
            "Certificate added: C=US, S=Texas, L=Houston, O=SSL Corporation, CN=SSL.com EV Root Certification Authority RSA R2\n",
            "Certificate added: C=US, S=Texas, L=Houston, O=SSL Corporation, CN=SSL.com Root Certification Authority ECC\n",
            "Certificate added: C=US, S=Texas, L=Houston, O=SSL Corporation, CN=SSL.com Root Certification Authority RSA\n",
            "Certificate added: C=PL, O=Krajowa Izba Rozliczeniowa S.A., CN=SZAFIR ROOT CA2\n",
            "Certificate added: C=JP, O=\"Japan Certification Services, Inc.\", CN=SecureSign RootCA11\n",
            "Certificate added: C=US, O=SecureTrust Corporation, CN=SecureTrust CA\n",
            "Certificate added: C=US, O=SecureTrust Corporation, CN=Secure Global CA\n",
            "Certificate added: C=JP, O=\"SECOM Trust Systems CO.,LTD.\", OU=Security Communication RootCA2\n",
            "Certificate added: C=JP, O=SECOM Trust.net, OU=Security Communication RootCA1\n",
            "Certificate added: C=FI, O=Sonera, CN=Sonera Class2 CA\n",
            "Certificate added: C=NL, O=Staat der Nederlanden, CN=Staat der Nederlanden EV Root CA\n",
            "Certificate added: C=NL, O=Staat der Nederlanden, CN=Staat der Nederlanden Root CA - G3\n",
            "Certificate added: C=US, O=\"Starfield Technologies, Inc.\", OU=Starfield Class 2 Certification Authority\n",
            "Certificate added: C=US, S=Arizona, L=Scottsdale, O=\"Starfield Technologies, Inc.\", CN=Starfield Root Certificate Authority - G2\n",
            "Certificate added: C=US, S=Arizona, L=Scottsdale, O=\"Starfield Technologies, Inc.\", CN=Starfield Services Root Certificate Authority - G2\n",
            "Certificate added: C=CH, O=SwissSign AG, CN=SwissSign Gold CA - G2\n",
            "Certificate added: C=CH, O=SwissSign AG, CN=SwissSign Silver CA - G2\n",
            "Certificate added: C=DE, O=T-Systems Enterprise Services GmbH, OU=T-Systems Trust Center, CN=T-TeleSec GlobalRoot Class 2\n",
            "Certificate added: C=DE, O=T-Systems Enterprise Services GmbH, OU=T-Systems Trust Center, CN=T-TeleSec GlobalRoot Class 3\n",
            "Certificate added: C=TR, L=Gebze - Kocaeli, O=Turkiye Bilimsel ve Teknolojik Arastirma Kurumu - TUBITAK, OU=Kamu Sertifikasyon Merkezi - Kamu SM, CN=TUBITAK Kamu SM SSL Kok Sertifikasi - Surum 1\n",
            "Certificate added: C=TW, O=TAIWAN-CA, OU=Root CA, CN=TWCA Global Root CA\n",
            "Certificate added: C=TW, O=TAIWAN-CA, OU=Root CA, CN=TWCA Root Certification Authority\n",
            "Certificate added: O=TeliaSonera, CN=TeliaSonera Root CA v1\n",
            "Certificate added: C=PA, S=Panama, L=Panama City, O=TrustCor Systems S. de R.L., OU=TrustCor Certificate Authority, CN=TrustCor ECA-1\n",
            "Certificate added: C=PA, S=Panama, L=Panama City, O=TrustCor Systems S. de R.L., OU=TrustCor Certificate Authority, CN=TrustCor RootCert CA-1\n",
            "Certificate added: C=PA, S=Panama, L=Panama City, O=TrustCor Systems S. de R.L., OU=TrustCor Certificate Authority, CN=TrustCor RootCert CA-2\n",
            "Certificate added: C=GB, O=Trustis Limited, OU=Trustis FPS Root CA\n",
            "Certificate added: C=US, S=Illinois, L=Chicago, O=\"Trustwave Holdings, Inc.\", CN=Trustwave Global Certification Authority\n",
            "Certificate added: C=US, S=Illinois, L=Chicago, O=\"Trustwave Holdings, Inc.\", CN=Trustwave Global ECC P256 Certification Authority\n",
            "Certificate added: C=US, S=Illinois, L=Chicago, O=\"Trustwave Holdings, Inc.\", CN=Trustwave Global ECC P384 Certification Authority\n",
            "Certificate added: C=CN, O=UniTrust, CN=UCA Extended Validation Root\n",
            "Certificate added: C=CN, O=UniTrust, CN=UCA Global G2 Root\n",
            "Certificate added: C=US, S=New Jersey, L=Jersey City, O=The USERTRUST Network, CN=USERTrust ECC Certification Authority\n",
            "Certificate added: C=US, S=New Jersey, L=Jersey City, O=The USERTRUST Network, CN=USERTrust RSA Certification Authority\n",
            "Certificate added: C=US, O=\"VeriSign, Inc.\", OU=VeriSign Trust Network, OU=\"(c) 2007 VeriSign, Inc. - For authorized use only\", CN=VeriSign Class 3 Public Primary Certification Authority - G4\n",
            "Certificate added: C=US, O=\"VeriSign, Inc.\", OU=VeriSign Trust Network, OU=\"(c) 2006 VeriSign, Inc. - For authorized use only\", CN=VeriSign Class 3 Public Primary Certification Authority - G5\n",
            "Certificate added: C=US, O=\"VeriSign, Inc.\", OU=VeriSign Trust Network, OU=\"(c) 2008 VeriSign, Inc. - For authorized use only\", CN=VeriSign Universal Root Certification Authority\n",
            "Certificate added: C=US, OU=www.xrampsecurity.com, O=XRamp Security Services Inc, CN=XRamp Global Certification Authority\n",
            "Certificate added: C=RO, O=certSIGN, OU=certSIGN ROOT CA\n",
            "Certificate added: C=RO, O=CERTSIGN SA, OU=certSIGN ROOT CA G2\n",
            "Certificate added: C=HU, L=Budapest, O=Microsec Ltd., OID.2.5.4.97=VATHU-23584497, CN=e-Szigno Root CA 2017\n",
            "Certificate added: C=TW, O=\"Chunghwa Telecom Co., Ltd.\", OU=ePKI Root Certification Authority\n",
            "Certificate added: C=US, OU=emSign PKI, O=eMudhra Inc, CN=emSign ECC Root CA - C3\n",
            "Certificate added: C=IN, OU=emSign PKI, O=eMudhra Technologies Limited, CN=emSign ECC Root CA - G3\n",
            "Certificate added: C=US, OU=emSign PKI, O=eMudhra Inc, CN=emSign Root CA - C1\n",
            "Certificate added: C=IN, OU=emSign PKI, O=eMudhra Technologies Limited, CN=emSign Root CA - G1\n",
            "Certificate added: C=US, O=\"thawte, Inc.\", OU=Certification Services Division, OU=\"(c) 2006 thawte, Inc. - For authorized use only\", CN=thawte Primary Root CA\n",
            "Certificate added: C=US, O=\"thawte, Inc.\", OU=\"(c) 2007 thawte, Inc. - For authorized use only\", CN=thawte Primary Root CA - G2\n",
            "Certificate added: C=US, O=\"thawte, Inc.\", OU=Certification Services Division, OU=\"(c) 2008 thawte, Inc. - For authorized use only\", CN=thawte Primary Root CA - G3\n",
            "138 new root certificates were added to your trust store.\n",
            "Import process completed.\n",
            "Done\n",
            "done.\n",
            "Processing triggers for mime-support (3.60ubuntu1) ...\n"
          ],
          "name": "stdout"
        }
      ]
    },
    {
      "cell_type": "code",
      "metadata": {
        "colab": {
          "base_uri": "https://localhost:8080/"
        },
        "id": "Uoe63czFz2U3",
        "outputId": "82b55149-c6c2-42c9-cab1-ed86852b5894"
      },
      "source": [
        "!/opt/intel/openvino_2021.2.185/deployment_tools/model_optimizer/install_prerequisites/install_prerequisites_caffe.sh"
      ],
      "execution_count": null,
      "outputs": [
        {
          "output_type": "stream",
          "text": [
            "/opt/intel/openvino_2021.2.185/deployment_tools/model_optimizer/install_prerequisites/install_prerequisites_caffe.sh: line 16: install_prerequisites.sh: No such file or directory\n"
          ],
          "name": "stdout"
        }
      ]
    },
    {
      "cell_type": "code",
      "metadata": {
        "id": "dshOh8o5z6qC"
      },
      "source": [
        "!source /opt/intel/openvino_2021.2.185/bin/setupvars.sh &&\\\r\n",
        " /opt/intel/openvino_2021.2.185/deployment_tools/demo/demo_squeezenet_download_convert_run.sh"
      ],
      "execution_count": null,
      "outputs": []
    },
    {
      "cell_type": "markdown",
      "metadata": {
        "id": "Dskq68-LQ2rR"
      },
      "source": [
        "# Optimizing Tensorflow-Model yolo v3\r\n"
      ]
    },
    {
      "cell_type": "code",
      "metadata": {
        "id": "fQNTBQG_62k9"
      },
      "source": [
        " !pip install imgaug==0.2.5\r\n",
        " !pip install gast==0.3.2\r\n",
        " !pip install folium==0.2.1"
      ],
      "execution_count": null,
      "outputs": []
    },
    {
      "cell_type": "markdown",
      "metadata": {
        "id": "3js-hwb7ujiG"
      },
      "source": [
        "Next cell gives an error, but if it's only one about version match - ignore it"
      ]
    },
    {
      "cell_type": "code",
      "metadata": {
        "id": "OAOJdkku12uJ"
      },
      "source": [
        "!/opt/intel/openvino_2021.2.185/deployment_tools/model_optimizer/install_prerequisites/install_prerequisites_tf.sh*"
      ],
      "execution_count": null,
      "outputs": []
    },
    {
      "cell_type": "markdown",
      "metadata": {
        "id": "IrlZDeeguK5W"
      },
      "source": [
        "Next cell should be ran for creating folders for models for \r\n",
        "simplicity"
      ]
    },
    {
      "cell_type": "code",
      "metadata": {
        "id": "GLaOpZJs5FL9"
      },
      "source": [
        "mkdir ~/downloaded_models ~/optimized_models ~/samples"
      ],
      "execution_count": 17,
      "outputs": []
    },
    {
      "cell_type": "markdown",
      "metadata": {
        "id": "c_J1AAYtuZ6u"
      },
      "source": [
        "Now we can download already pretrained models from OpenVINO source"
      ]
    },
    {
      "cell_type": "code",
      "metadata": {
        "id": "Cz1JMjLX6H6-"
      },
      "source": [
        "!python3 /opt/intel/openvino_2021.2.185/deployment_tools/tools/model_downloader/downloader.py --name yolo-v3-tf --output_dir /root/downloaded_models/"
      ],
      "execution_count": null,
      "outputs": []
    },
    {
      "cell_type": "markdown",
      "metadata": {
        "id": "qTklqqOifsw0"
      },
      "source": [
        "In official [documentation](https://docs.openvinotoolkit.org/latest/openvino_docs_MO_DG_prepare_model_convert_model_tf_specific_Convert_YOLO_From_Tensorflow.html) the general case is described. But our problem can be solved according [that](https://github.com/openvinotoolkit/openvino/issues/1593) answer: we use mo.py, and on [github](https://github.com/openvinotoolkit/open_model_zoo/blob/master/models/public/yolo-v3-tf/model.yml) (officially) there are flags for script **only for open zoo pretrained models**\r\n",
        "[Текст ссылки]"
      ]
    },
    {
      "cell_type": "code",
      "metadata": {
        "id": "G_b3drxOa_sv"
      },
      "source": [
        "!source /opt/intel/openvino_2021.2.185/bin/setupvars.sh &&\\\r\n",
        " python3 /opt/intel/openvino_2021.2.185/deployment_tools/model_optimizer/mo.py \\\r\n",
        "  --framework=tf \\\r\n",
        "  --output_dir=/root/optimized_models \\\r\n",
        "  --model_name=yolov3_25jan_3 \\\r\n",
        "  --data_type=FP16 \\\r\n",
        "  --input_shape=[1,416,416,3] \\\r\n",
        "  --input=input_1 \\\r\n",
        "  --scale_values=input_1[255] \\\r\n",
        "  --reverse_input_channels \\\r\n",
        "  --transformations_config=/root/downloaded_models/public/yolo-v3-tf/yolo-v3.json \\\r\n",
        "  --input_model=/root/downloaded_models/public/yolo-v3-tf/yolo-v3.pb"
      ],
      "execution_count": null,
      "outputs": []
    },
    {
      "cell_type": "code",
      "metadata": {
        "id": "ffE3A5Go7Q_1"
      },
      "source": [
        "#!python3 /opt/intel/openvino_2021.2.185/deployment_tools/model_optimizer/mo_tf.py --input_model /root/downloaded_models/public/yolo-v3-tf/public/yolo-v3-tf/yolo-v3.pb --input_shape [1,416,416,3] --output_dir ~/optimized_models/"
      ],
      "execution_count": null,
      "outputs": []
    },
    {
      "cell_type": "code",
      "metadata": {
        "id": "h8ZqRueN9ew5",
        "colab": {
          "base_uri": "https://localhost:8080/"
        },
        "outputId": "00cdd673-2157-476b-9fc7-3eacc25e65de"
      },
      "source": [
        "!source /opt/intel/openvino_2021.2.185/bin/setupvars.sh"
      ],
      "execution_count": 2,
      "outputs": [
        {
          "output_type": "stream",
          "text": [
            "/bin/bash: /opt/intel/openvino_2021.2.185/bin/setupvars.sh: No such file or directory\n"
          ],
          "name": "stdout"
        }
      ]
    },
    {
      "cell_type": "code",
      "metadata": {
        "id": "ABvjS-Ex7q4q"
      },
      "source": [
        "#!python3 /opt/intel/openvino_2021.2.185/deployment_tools/open_model_zoo/demos/python_demos/object_detection_demo/object_detection_demo.py --model /root/optimized_models/yolo-v3.xml -at={yolo} --input /opt/intel/openvino_2021.2.185/deployment_tools/demo/car.png -d CPU "
      ],
      "execution_count": null,
      "outputs": []
    },
    {
      "cell_type": "markdown",
      "metadata": {
        "id": "ntR4WxjAIdWe"
      },
      "source": [
        "# Optimizing Tensorflow-Model yolo-v3-tiny"
      ]
    },
    {
      "cell_type": "markdown",
      "metadata": {
        "id": "8-tT2tojveiC"
      },
      "source": [
        "If you made next steps for yolo-v3 (not tiny),  just ignore it till \"Dowloading...\""
      ]
    },
    {
      "cell_type": "code",
      "metadata": {
        "id": "d5ubZdx6vV9E"
      },
      "source": [
        " !pip install imgaug==0.2.5\r\n",
        " !pip install gast==0.3.2\r\n",
        " !pip install folium==0.2.1"
      ],
      "execution_count": null,
      "outputs": []
    },
    {
      "cell_type": "markdown",
      "metadata": {
        "id": "mthvgqJ8vV9X"
      },
      "source": [
        "Next cell gives an error, but if it's only one about version match - ignore it"
      ]
    },
    {
      "cell_type": "code",
      "metadata": {
        "id": "rwsebD5VvV9Y"
      },
      "source": [
        "!/opt/intel/openvino_2021.2.185/deployment_tools/model_optimizer/install_prerequisites/install_prerequisites_tf.sh*"
      ],
      "execution_count": null,
      "outputs": []
    },
    {
      "cell_type": "markdown",
      "metadata": {
        "id": "fyZUWpMevV9Y"
      },
      "source": [
        "Next cell should be ran for creating folders for models for \r\n",
        "simplicity"
      ]
    },
    {
      "cell_type": "code",
      "metadata": {
        "id": "B0Dnno-ovV9Z"
      },
      "source": [
        "mkdir ~/downloaded_models ~/optimized_models ~/samples"
      ],
      "execution_count": null,
      "outputs": []
    },
    {
      "cell_type": "markdown",
      "metadata": {
        "id": "jyyzCYpNvV9Z"
      },
      "source": [
        "Downloading. Now we can download already pretrained models from OpenVINO source"
      ]
    },
    {
      "cell_type": "code",
      "metadata": {
        "id": "pv7V_-EbIq3_"
      },
      "source": [
        "!python3 /opt/intel/openvino_2021.2.185/deployment_tools/tools/model_downloader/downloader.py --name yolo-v3-tiny-tf --output_dir /root/downloaded_models/"
      ],
      "execution_count": null,
      "outputs": []
    },
    {
      "cell_type": "markdown",
      "metadata": {
        "id": "cptv49Gkg33c"
      },
      "source": [
        "In official [documentation](https://docs.openvinotoolkit.org/latest/openvino_docs_MO_DG_prepare_model_convert_model_tf_specific_Convert_YOLO_From_Tensorflow.html) the general case is described. But our problem can be solved according [that](https://github.com/openvinotoolkit/openvino/issues/1593) answer: we use mo.py, and on [github](https://github.com/openvinotoolkit/open_model_zoo/blob/master/models/public/yolo-v3-tiny-tf/model.yml)  (officially) there are flags for script **only for open zoo pretrained models**"
      ]
    },
    {
      "cell_type": "code",
      "metadata": {
        "id": "2i98b7M6g33_"
      },
      "source": [
        "!source /opt/intel/openvino_2021.2.185/bin/setupvars.sh &&\\\r\n",
        " python3 /opt/intel/openvino_2021.2.185/deployment_tools/model_optimizer/mo.py \\\r\n",
        "  --framework=tf \\\r\n",
        "  --output_dir=/root/optimized_models \\\r\n",
        "  --model_name=yolov3tiny_25jan_3 \\\r\n",
        "  --input_shape=[1,416,416,3] \\\r\n",
        "  --data_type=FP16 \\\r\n",
        "  --input=image_input \\\r\n",
        "  --scale_values=image_input[255] \\\r\n",
        "  --reverse_input_channels \\\r\n",
        "  --transformations_config=/root/downloaded_models/public/yolo-v3-tiny-tf/yolo-v3-tiny-tf/yolo-v3-tiny-tf.json \\\r\n",
        "  --input_model=/root/downloaded_models/public/yolo-v3-tiny-tf/yolo-v3-tiny-tf/yolo-v3-tiny-tf.pb"
      ],
      "execution_count": null,
      "outputs": []
    },
    {
      "cell_type": "markdown",
      "metadata": {
        "id": "mfiFdBVEnKbC"
      },
      "source": [
        "# Run inference with object_detection_demo.py"
      ]
    },
    {
      "cell_type": "markdown",
      "metadata": {
        "id": "xEGFEUq-OGKz"
      },
      "source": [
        "When running object_detection_demo.py OpenVINO enviroment should be initialized in one cell with demo running code. The flags \"-r\" means that output will be in raw data format and \"no_show\" will not call the OpenCV's imshow, that works incorrectly in Colab. I run every optimized model just to see, that output raw data has no over1000 bboxes - that means, that the model was optimized incorrectly (in most cases) or was wrong learned"
      ]
    },
    {
      "cell_type": "code",
      "metadata": {
        "id": "Y-e5tx3qDIoZ"
      },
      "source": [
        "!source /opt/intel/openvino_2021.2.185/bin/setupvars.sh &&\\\r\n",
        " python3 /opt/intel/openvino_2021.2.185/deployment_tools/open_model_zoo/demos/python_demos/object_detection_demo/object_detection_demo.py \\\r\n",
        " --model /root/optimized_models/yolov3tiny_25jan_3.xml\\\r\n",
        " -at={'yolo'} \\\r\n",
        " --input /opt/intel/openvino_2021.2.185/deployment_tools/demo/car.png \\\r\n",
        " -d CPU \\\r\n",
        " -r \\\r\n",
        " --no_show"
      ],
      "execution_count": null,
      "outputs": []
    },
    {
      "cell_type": "code",
      "metadata": {
        "id": "G6A7W7snE8n6"
      },
      "source": [
        "#from google.colab.patches import cv2_imshow\r\n",
        "#!apt-get install gtk"
      ],
      "execution_count": null,
      "outputs": []
    },
    {
      "cell_type": "code",
      "metadata": {
        "id": "mtFwxHch2adw"
      },
      "source": [
        "#!find /opt/intel -name *.png"
      ],
      "execution_count": null,
      "outputs": []
    },
    {
      "cell_type": "markdown",
      "metadata": {
        "id": "a8zBUQbdhmb0"
      },
      "source": [
        "# Upload Intermediate Representation to Google Drive"
      ]
    },
    {
      "cell_type": "code",
      "metadata": {
        "colab": {
          "base_uri": "https://localhost:8080/"
        },
        "id": "zrSOEOwFHcYN",
        "outputId": "ff1bcf57-8888-4d59-872b-d85b03a8c6e6"
      },
      "source": [
        "from google.colab import drive\r\n",
        "drive.mount(\"/content/gdrive\")"
      ],
      "execution_count": 24,
      "outputs": [
        {
          "output_type": "stream",
          "text": [
            "Mounted at /content/gdrive\n"
          ],
          "name": "stdout"
        }
      ]
    },
    {
      "cell_type": "markdown",
      "metadata": {
        "id": "3d2xS8evJGKn"
      },
      "source": [
        "Goog [guide](https://colab.research.google.com/drive/1CN7JxLA_Qk1Clc4CM75rSAqIlUKIF8xZ#scrollTo=T_tDc-oMEY22) for model saving\r\n",
        "\r\n",
        "And [there](https://github.com/googlecolab/colabtools/issues/287) is described, why you can't see already uploaded to /content/drive folder in Google Drive instantly"
      ]
    },
    {
      "cell_type": "code",
      "metadata": {
        "id": "deGXg34-oc5W"
      },
      "source": [
        "mkdir /content/gdrive/MyDrive/yolo_v3_tiny_from_colab"
      ],
      "execution_count": null,
      "outputs": []
    },
    {
      "cell_type": "code",
      "metadata": {
        "id": "WhNsJxLTIIDf"
      },
      "source": [
        "!cp /root/optimized_models/yolov3tiny_25jan_3.xml  /content/gdrive/MyDrive/yolo_v3_tiny_from_colab/\r\n",
        "!cp /root/optimized_models/yolov3tiny_25jan_3.bin  /content/gdrive/MyDrive/yolo_v3_tiny_from_colab/ "
      ],
      "execution_count": 39,
      "outputs": []
    },
    {
      "cell_type": "code",
      "metadata": {
        "id": "YKfP22OUpofL"
      },
      "source": [
        "!cp /root/optimized_models/yolov3_25jan_3.xml  /content/gdrive/MyDrive/yolo_v3_from_colab/\r\n",
        "!cp /root/optimized_models/yolov3_25jan_3.bin  /content/gdrive/MyDrive/yolo_v3_from_colab/ "
      ],
      "execution_count": 40,
      "outputs": []
    },
    {
      "cell_type": "markdown",
      "metadata": {
        "id": "ixfUBspRpFlS"
      },
      "source": [
        "Sync can be manually with following comand (with small-sized files not neccessary)"
      ]
    },
    {
      "cell_type": "code",
      "metadata": {
        "id": "6r20FRscpLnI"
      },
      "source": [
        "from google.colab import drive\r\n",
        "drive.flush_and_unmount()"
      ],
      "execution_count": null,
      "outputs": []
    },
    {
      "cell_type": "markdown",
      "metadata": {
        "id": "Xp0D0XuDo8lu"
      },
      "source": [
        "# Download files from mounted Colab to the local machine"
      ]
    },
    {
      "cell_type": "code",
      "metadata": {
        "colab": {
          "base_uri": "https://localhost:8080/",
          "height": 16
        },
        "id": "lQcJdznBIJFt",
        "outputId": "1621106a-6ad0-4112-a549-b6f4f10d7898"
      },
      "source": [
        "from google.colab import files\r\n",
        "files.download( \"/root/optimized_models/yolo-v3.bin\" ) "
      ],
      "execution_count": null,
      "outputs": [
        {
          "output_type": "display_data",
          "data": {
            "application/javascript": [
              "\n",
              "    async function download(id, filename, size) {\n",
              "      if (!google.colab.kernel.accessAllowed) {\n",
              "        return;\n",
              "      }\n",
              "      const div = document.createElement('div');\n",
              "      const label = document.createElement('label');\n",
              "      label.textContent = `Downloading \"${filename}\": `;\n",
              "      div.appendChild(label);\n",
              "      const progress = document.createElement('progress');\n",
              "      progress.max = size;\n",
              "      div.appendChild(progress);\n",
              "      document.body.appendChild(div);\n",
              "\n",
              "      const buffers = [];\n",
              "      let downloaded = 0;\n",
              "\n",
              "      const channel = await google.colab.kernel.comms.open(id);\n",
              "      // Send a message to notify the kernel that we're ready.\n",
              "      channel.send({})\n",
              "\n",
              "      for await (const message of channel.messages) {\n",
              "        // Send a message to notify the kernel that we're ready.\n",
              "        channel.send({})\n",
              "        if (message.buffers) {\n",
              "          for (const buffer of message.buffers) {\n",
              "            buffers.push(buffer);\n",
              "            downloaded += buffer.byteLength;\n",
              "            progress.value = downloaded;\n",
              "          }\n",
              "        }\n",
              "      }\n",
              "      const blob = new Blob(buffers, {type: 'application/binary'});\n",
              "      const a = document.createElement('a');\n",
              "      a.href = window.URL.createObjectURL(blob);\n",
              "      a.download = filename;\n",
              "      div.appendChild(a);\n",
              "      a.click();\n",
              "      div.remove();\n",
              "    }\n",
              "  "
            ],
            "text/plain": [
              "<IPython.core.display.Javascript object>"
            ]
          },
          "metadata": {
            "tags": []
          }
        },
        {
          "output_type": "display_data",
          "data": {
            "application/javascript": [
              "download(\"download_9fbc5055-47b3-4e3c-939c-d5591ba2e9f2\", \"yolo-v3.bin\", 247691432)"
            ],
            "text/plain": [
              "<IPython.core.display.Javascript object>"
            ]
          },
          "metadata": {
            "tags": []
          }
        }
      ]
    },
    {
      "cell_type": "code",
      "metadata": {
        "colab": {
          "base_uri": "https://localhost:8080/",
          "height": 16
        },
        "id": "rAxonkFaJg7x",
        "outputId": "1ea3fe37-f729-4520-bbdd-69f96984c4fd"
      },
      "source": [
        "from google.colab import files\r\n",
        "files.download( \"/root/optimized_models/yolo-v3.xml\" )"
      ],
      "execution_count": null,
      "outputs": [
        {
          "output_type": "display_data",
          "data": {
            "application/javascript": [
              "\n",
              "    async function download(id, filename, size) {\n",
              "      if (!google.colab.kernel.accessAllowed) {\n",
              "        return;\n",
              "      }\n",
              "      const div = document.createElement('div');\n",
              "      const label = document.createElement('label');\n",
              "      label.textContent = `Downloading \"${filename}\": `;\n",
              "      div.appendChild(label);\n",
              "      const progress = document.createElement('progress');\n",
              "      progress.max = size;\n",
              "      div.appendChild(progress);\n",
              "      document.body.appendChild(div);\n",
              "\n",
              "      const buffers = [];\n",
              "      let downloaded = 0;\n",
              "\n",
              "      const channel = await google.colab.kernel.comms.open(id);\n",
              "      // Send a message to notify the kernel that we're ready.\n",
              "      channel.send({})\n",
              "\n",
              "      for await (const message of channel.messages) {\n",
              "        // Send a message to notify the kernel that we're ready.\n",
              "        channel.send({})\n",
              "        if (message.buffers) {\n",
              "          for (const buffer of message.buffers) {\n",
              "            buffers.push(buffer);\n",
              "            downloaded += buffer.byteLength;\n",
              "            progress.value = downloaded;\n",
              "          }\n",
              "        }\n",
              "      }\n",
              "      const blob = new Blob(buffers, {type: 'application/binary'});\n",
              "      const a = document.createElement('a');\n",
              "      a.href = window.URL.createObjectURL(blob);\n",
              "      a.download = filename;\n",
              "      div.appendChild(a);\n",
              "      a.click();\n",
              "      div.remove();\n",
              "    }\n",
              "  "
            ],
            "text/plain": [
              "<IPython.core.display.Javascript object>"
            ]
          },
          "metadata": {
            "tags": []
          }
        },
        {
          "output_type": "display_data",
          "data": {
            "application/javascript": [
              "download(\"download_840c1463-75f0-46b9-a42f-1ef113b99949\", \"yolo-v3.xml\", 239099)"
            ],
            "text/plain": [
              "<IPython.core.display.Javascript object>"
            ]
          },
          "metadata": {
            "tags": []
          }
        }
      ]
    }
  ]
}